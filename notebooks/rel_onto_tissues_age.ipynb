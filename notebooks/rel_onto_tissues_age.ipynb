{
 "cells": [
  {
   "cell_type": "code",
   "execution_count": null,
   "metadata": {},
   "outputs": [
    {
     "name": "stdout",
     "output_type": "stream",
     "text": [
      "💡 found cached instance metadata: /home/ml4ig1/.lamin/instance--jkobject--scprint.env\n",
      "💡 loaded instance: jkobject/scprint\n",
      "\u001b[0m"
     ]
    }
   ],
   "source": [
    "! lamin load scdataloader"
   ]
  },
  {
   "cell_type": "markdown",
   "metadata": {},
   "source": [
    "## preprocess"
   ]
  },
  {
   "cell_type": "code",
   "execution_count": null,
   "metadata": {},
   "outputs": [],
   "source": []
  },
  {
   "cell_type": "code",
   "execution_count": 5,
   "metadata": {},
   "outputs": [],
   "source": [
    "adata = ln.Artifact.filter(version='2', description=\"preprocessed by scDataLoader\").first().lo()"
   ]
  },
  {
   "cell_type": "code",
   "execution_count": 8,
   "metadata": {},
   "outputs": [
    {
     "data": {
      "text/plain": [
       "AnnDataAccessor object with n_obs × n_vars = 23349 × 70116\n",
       "  constructed for the AnnData object Mgilie8RUip2slEl4RBk.h5ad\n",
       "    layers: ['clean']\n",
       "    obs: ['_index', 'assay', 'assay_ontology_term_id', 'cell_culture', 'cell_cycle_score', 'cell_type', 'cell_type_ontology_term_id', 'cluster_id', 'development_stage', 'development_stage_ontology_term_id', 'disease', 'disease_ontology_term_id', 'dissection', 'donor_id', 'dpt_group', 'fraction_mitochondrial', 'fraction_unspliced', 'heat_diff', 'is_primary_data', 'leiden_1', 'leiden_2', 'leiden_3', 'log1p_n_genes_by_counts', 'log1p_total_counts', 'log1p_total_counts_hb', 'log1p_total_counts_mt', 'log1p_total_counts_ribo', 'mt_outlier', 'n_genes_by_counts', 'nnz', 'organism', 'organism_ontology_term_id', 'outlier', 'pct_counts_hb', 'pct_counts_in_top_20_genes', 'pct_counts_mt', 'pct_counts_ribo', 'roi', 'sample_id', 'self_reported_ethnicity', 'self_reported_ethnicity_ontology_term_id', 'sex', 'sex_ontology_term_id', 'subcluster_id', 'supercluster_term', 'suspension_type', 'tissue', 'tissue_ontology_term_id', 'total_UMIs', 'total_counts', 'total_counts_hb', 'total_counts_mt', 'total_counts_ribo', 'total_genes']\n",
       "    obsm: ['X_diffmap', 'X_umap', 'clean_pca']\n",
       "    obsp: ['connectivities', 'distances']\n",
       "    uns: ['diffmap_evals', 'iroot', 'leiden', 'neighbors', 'umap', 'unseen_genes']\n",
       "    var: ['Biotype', 'Chromosome', 'End', 'Gene', 'Start', '_index', 'biotype', 'created_by_id', 'description', 'feature_biotype', 'feature_is_filtered', 'feature_name', 'feature_reference', 'hb', 'log1p_mean_counts', 'log1p_total_counts', 'mean_counts', 'mt', 'n_cells_by_counts', 'ncbi_gene_ids', 'organism', 'organism_id', 'pct_dropout_by_counts', 'public_source_id', 'ribo', 'symbol', 'synonyms', 'total_counts', 'uid']"
      ]
     },
     "execution_count": 8,
     "metadata": {},
     "output_type": "execute_result"
    }
   ],
   "source": [
    "adata = adata."
   ]
  },
  {
   "cell_type": "code",
   "execution_count": 13,
   "metadata": {},
   "outputs": [
    {
     "ename": "AttributeError",
     "evalue": "'AnnDataAccessor' object has no attribute '_sanitize'",
     "output_type": "error",
     "traceback": [
      "\u001b[0;31m---------------------------------------------------------------------------\u001b[0m",
      "\u001b[0;31mAttributeError\u001b[0m                            Traceback (most recent call last)",
      "Cell \u001b[0;32mIn[13], line 1\u001b[0m\n\u001b[0;32m----> 1\u001b[0m \u001b[43msc\u001b[49m\u001b[38;5;241;43m.\u001b[39;49m\u001b[43mpl\u001b[49m\u001b[38;5;241;43m.\u001b[39;49m\u001b[43mscatter\u001b[49m\u001b[43m(\u001b[49m\u001b[43madata\u001b[49m\u001b[43m,\u001b[49m\u001b[43m \u001b[49m\u001b[43mbasis\u001b[49m\u001b[38;5;241;43m=\u001b[39;49m\u001b[38;5;124;43m\"\u001b[39;49m\u001b[38;5;124;43mdiffmap\u001b[39;49m\u001b[38;5;124;43m\"\u001b[39;49m\u001b[43m,\u001b[49m\u001b[43m \u001b[49m\u001b[43mcolor\u001b[49m\u001b[38;5;241;43m=\u001b[39;49m\u001b[43m[\u001b[49m\u001b[38;5;124;43m'\u001b[39;49m\u001b[38;5;124;43mcell_type_ontology_term_id\u001b[39;49m\u001b[38;5;124;43m'\u001b[39;49m\u001b[43m,\u001b[49m\u001b[43m \u001b[49m\u001b[38;5;124;43m'\u001b[39;49m\u001b[38;5;124;43mheat_diff\u001b[39;49m\u001b[38;5;124;43m'\u001b[39;49m\u001b[43m]\u001b[49m\u001b[43m)\u001b[49m\n",
      "File \u001b[0;32m~/miniconda3/envs/scprint/lib/python3.10/site-packages/scanpy/plotting/_anndata.py:128\u001b[0m, in \u001b[0;36mscatter\u001b[0;34m(adata, x, y, color, use_raw, layers, sort_order, alpha, basis, groups, components, projection, legend_loc, legend_fontsize, legend_fontweight, legend_fontoutline, color_map, palette, frameon, right_margin, left_margin, size, title, show, save, ax)\u001b[0m\n\u001b[1;32m    126\u001b[0m     var_index \u001b[38;5;241m=\u001b[39m adata\u001b[38;5;241m.\u001b[39mvar\u001b[38;5;241m.\u001b[39mindex\n\u001b[1;32m    127\u001b[0m \u001b[38;5;28;01mif\u001b[39;00m basis \u001b[38;5;129;01mis\u001b[39;00m \u001b[38;5;129;01mnot\u001b[39;00m \u001b[38;5;28;01mNone\u001b[39;00m:\n\u001b[0;32m--> 128\u001b[0m     \u001b[38;5;28;01mreturn\u001b[39;00m \u001b[43m_scatter_obs\u001b[49m\u001b[43m(\u001b[49m\u001b[38;5;241;43m*\u001b[39;49m\u001b[38;5;241;43m*\u001b[39;49m\u001b[43margs\u001b[49m\u001b[43m)\u001b[49m\n\u001b[1;32m    129\u001b[0m \u001b[38;5;28;01mif\u001b[39;00m x \u001b[38;5;129;01mis\u001b[39;00m \u001b[38;5;28;01mNone\u001b[39;00m \u001b[38;5;129;01mor\u001b[39;00m y \u001b[38;5;129;01mis\u001b[39;00m \u001b[38;5;28;01mNone\u001b[39;00m:\n\u001b[1;32m    130\u001b[0m     \u001b[38;5;28;01mraise\u001b[39;00m \u001b[38;5;167;01mValueError\u001b[39;00m(\u001b[38;5;124m'\u001b[39m\u001b[38;5;124mEither provide a `basis` or `x` and `y`.\u001b[39m\u001b[38;5;124m'\u001b[39m)\n",
      "File \u001b[0;32m~/miniconda3/envs/scprint/lib/python3.10/site-packages/scanpy/plotting/_anndata.py:185\u001b[0m, in \u001b[0;36m_scatter_obs\u001b[0;34m(adata, x, y, color, use_raw, layers, sort_order, alpha, basis, groups, components, projection, legend_loc, legend_fontsize, legend_fontweight, legend_fontoutline, color_map, palette, frameon, right_margin, left_margin, size, title, show, save, ax)\u001b[0m\n\u001b[1;32m    156\u001b[0m \u001b[38;5;28;01mdef\u001b[39;00m \u001b[38;5;21m_scatter_obs\u001b[39m(\n\u001b[1;32m    157\u001b[0m     adata: AnnData,\n\u001b[1;32m    158\u001b[0m     x\u001b[38;5;241m=\u001b[39m\u001b[38;5;28;01mNone\u001b[39;00m,\n\u001b[0;32m   (...)\u001b[0m\n\u001b[1;32m    182\u001b[0m     ax\u001b[38;5;241m=\u001b[39m\u001b[38;5;28;01mNone\u001b[39;00m,\n\u001b[1;32m    183\u001b[0m ):\n\u001b[1;32m    184\u001b[0m \u001b[38;5;250m    \u001b[39m\u001b[38;5;124;03m\"\"\"See docstring of scatter.\"\"\"\u001b[39;00m\n\u001b[0;32m--> 185\u001b[0m     \u001b[43msanitize_anndata\u001b[49m\u001b[43m(\u001b[49m\u001b[43madata\u001b[49m\u001b[43m)\u001b[49m\n\u001b[1;32m    186\u001b[0m     \u001b[38;5;28;01mfrom\u001b[39;00m \u001b[38;5;21;01mscipy\u001b[39;00m\u001b[38;5;21;01m.\u001b[39;00m\u001b[38;5;21;01msparse\u001b[39;00m \u001b[38;5;28;01mimport\u001b[39;00m issparse\n\u001b[1;32m    188\u001b[0m     use_raw \u001b[38;5;241m=\u001b[39m _check_use_raw(adata, use_raw)\n",
      "File \u001b[0;32m~/miniconda3/envs/scprint/lib/python3.10/site-packages/scanpy/_utils/__init__.py:405\u001b[0m, in \u001b[0;36msanitize_anndata\u001b[0;34m(adata)\u001b[0m\n\u001b[1;32m    403\u001b[0m \u001b[38;5;28;01mdef\u001b[39;00m \u001b[38;5;21msanitize_anndata\u001b[39m(adata):\n\u001b[1;32m    404\u001b[0m \u001b[38;5;250m    \u001b[39m\u001b[38;5;124;03m\"\"\"Transform string annotations to categoricals.\"\"\"\u001b[39;00m\n\u001b[0;32m--> 405\u001b[0m     \u001b[43madata\u001b[49m\u001b[38;5;241;43m.\u001b[39;49m\u001b[43m_sanitize\u001b[49m()\n",
      "\u001b[0;31mAttributeError\u001b[0m: 'AnnDataAccessor' object has no attribute '_sanitize'"
     ]
    }
   ],
   "source": [
    "sc.pl.scatter(adata, basis=\"diffmap\", color=['cell_type_ontology_term_id', 'heat_diff'], components)"
   ]
  },
  {
   "cell_type": "markdown",
   "metadata": {},
   "source": [
    "## assessing unseen genes"
   ]
  },
  {
   "cell_type": "code",
   "execution_count": 2,
   "metadata": {},
   "outputs": [
    {
     "name": "stdout",
     "output_type": "stream",
     "text": [
      "💡 found cached instance metadata: /home/ml4ig1/.lamin/instance--jkobject--scdataloader.env\n",
      "💡 loaded instance: jkobject/scdataloader\n",
      "💡 loaded instance: jkobject/scdataloader\n"
     ]
    }
   ],
   "source": [
    "! lamin load scdataloader"
   ]
  },
  {
   "cell_type": "code",
   "execution_count": 10,
   "metadata": {},
   "outputs": [
    {
     "name": "stdout",
     "output_type": "stream",
     "text": [
      "The autoreload extension is already loaded. To reload it, use:\n",
      "  %reload_ext autoreload\n",
      "\n",
      "  %reload_ext autoreload\n"
     ]
    }
   ],
   "source": [
    "from scdataloader import DataModule\n",
    "\n",
    "import bionty as bt\n",
    "import lamindb as ln\n",
    "import lnschema_bionty as lb\n",
    "\n",
    "from scdataloader.utils import get_ancestry_mapping, load_genes\n",
    "\n",
    "import scanpy as sc\n",
    "\n",
    "%load_ext autoreload\n",
    "%autoreload 2"
   ]
  },
  {
   "cell_type": "code",
   "execution_count": 3,
   "metadata": {},
   "outputs": [],
   "source": [
    "# TODO: drop tissue & dev stage until part or is taken in account\n",
    "\n",
    "hierarchical_labels = [\n",
    "    \"cell_type_ontology_term_id\", #1\n",
    "    # \"tissue_ontology_term_id\",\n",
    "    \"disease_ontology_term_id\", # 2\n",
    "#    \"development_stage_ontology_term_id\",\n",
    "    \"assay_ontology_term_id\", #3\n",
    "    'self_reported_ethnicity_ontology_term_id', #4\n",
    "]\n",
    "labels_to_pred = hierarchical_labels+[\n",
    "    'sex_ontology_term_id', #5\n",
    "    \"organism_ontology_term_id\", #6\n",
    "]\n",
    "all_labels = labels_to_pred+[\n",
    "    #'dataset_id',\n",
    "    'cell_culture',\n",
    "    \"heat_diff\",\n",
    "    \"total_counts\",\n",
    "    \"nnz\",\n",
    "    \"dpt_group\",\n",
    "]\n",
    "\n",
    "gene_emb = '../data/temp/embeddings.parquet'\n",
    "d_model=128"
   ]
  },
  {
   "cell_type": "code",
   "execution_count": null,
   "metadata": {},
   "outputs": [],
   "source": [
    "# we might want not to order the genes by expression (or do it?)\n",
    "# we might want to not introduce zeros and "
   ]
  },
  {
   "cell_type": "code",
   "execution_count": 4,
   "metadata": {},
   "outputs": [
    {
     "name": "stdout",
     "output_type": "stream",
     "text": [
      "won't do any check but we recommend to have your dataset coming from local storage\n"
     ]
    },
    {
     "name": "stdout",
     "output_type": "stream",
     "text": [
      "0.0% are aligned\n",
      "total dataset size is 106.584138411 Gb\n",
      "---\n",
      "dataset contains:\n",
      "     5567614 cells\n",
      "     70116 genes\n",
      "     11 labels\n",
      "     1 organisms\n",
      "dataset contains 230 classes to predict\n",
      "\n",
      "downloading gene names from biomart\n",
      "\n",
      "total dataset size is 106.584138411 Gb\n",
      "---\n",
      "dataset contains:\n",
      "     5567614 cells\n",
      "     70116 genes\n",
      "     11 labels\n",
      "     1 organisms\n",
      "dataset contains 230 classes to predict\n",
      "\n",
      "downloading gene names from biomart\n",
      "['ensembl_gene_id', 'hgnc_symbol', 'gene_biotype', 'entrezgene_id', 'start_position', 'chromosome_name']\n",
      "reduced the size to 0.6722574020195106\n",
      "these files will be considered test datasets:\n",
      "    /home/ml4ig1/scprint/.lamindb/BljRloq1xjcxRNDpejzI.h5ad\n",
      "perc test:  0.00226129182087695\n"
     ]
    }
   ],
   "source": [
    "datamodule = DataModule(\n",
    "    collection_name=\"preprocessed dataset\",\n",
    "    #gene_embeddings=gene_emb,\n",
    "    all_labels=all_labels,\n",
    "    hierarchical_labels=hierarchical_labels,\n",
    "    organisms=[\"NCBITaxon:9606\"],\n",
    "    how=\"most expr\",\n",
    "    max_len=1000,\n",
    "    add_zero_genes=100,\n",
    "    label_to_weight=labels_to_pred,\n",
    "    label_to_pred=labels_to_pred,\n",
    "    batch_size=8,\n",
    "    num_workers=1,\n",
    "    validation_split=0.1,\n",
    "    test_split=0.1)\n",
    "testfiles = datamodule.setup()"
   ]
  },
  {
   "cell_type": "code",
   "execution_count": null,
   "metadata": {},
   "outputs": [],
   "source": []
  },
  {
   "cell_type": "markdown",
   "metadata": {},
   "source": [
    "## checking neighbors"
   ]
  },
  {
   "cell_type": "code",
   "execution_count": null,
   "metadata": {},
   "outputs": [],
   "source": []
  },
  {
   "cell_type": "code",
   "execution_count": null,
   "metadata": {},
   "outputs": [],
   "source": []
  },
  {
   "cell_type": "markdown",
   "metadata": {},
   "source": [
    "## conversion of parental relationships"
   ]
  },
  {
   "cell_type": "code",
   "execution_count": null,
   "metadata": {},
   "outputs": [],
   "source": [
    "df = bt.Tissue.filter().df()"
   ]
  },
  {
   "cell_type": "code",
   "execution_count": null,
   "metadata": {},
   "outputs": [],
   "source": [
    "parentdf = bt.Tissue.filter().df(include=[\"parents__ontology_id\"]).set_index(\"ontology_id\")"
   ]
  },
  {
   "cell_type": "code",
   "execution_count": null,
   "metadata": {},
   "outputs": [
    {
     "data": {
      "text/plain": [
       "ontology_id\n",
       "UBERON:8440012    [UBERON:0009663]\n",
       "Name: parents__ontology_id, dtype: object"
      ]
     },
     "metadata": {},
     "output_type": "display_data"
    }
   ],
   "source": [
    "ids"
   ]
  },
  {
   "cell_type": "code",
   "execution_count": 6,
   "metadata": {},
   "outputs": [
    {
     "data": {
      "text/html": [
       "<div>\n",
       "<style scoped>\n",
       "    .dataframe tbody tr th:only-of-type {\n",
       "        vertical-align: middle;\n",
       "    }\n",
       "\n",
       "    .dataframe tbody tr th {\n",
       "        vertical-align: top;\n",
       "    }\n",
       "\n",
       "    .dataframe thead th {\n",
       "        text-align: right;\n",
       "    }\n",
       "</style>\n",
       "<table border=\"1\" class=\"dataframe\">\n",
       "  <thead>\n",
       "    <tr style=\"text-align: right;\">\n",
       "      <th></th>\n",
       "      <th>name</th>\n",
       "      <th>definition</th>\n",
       "      <th>synonyms</th>\n",
       "      <th>parents</th>\n",
       "    </tr>\n",
       "    <tr>\n",
       "      <th>ontology_id</th>\n",
       "      <th></th>\n",
       "      <th></th>\n",
       "      <th></th>\n",
       "      <th></th>\n",
       "    </tr>\n",
       "  </thead>\n",
       "  <tbody>\n",
       "    <tr>\n",
       "      <th>BFO:0000001</th>\n",
       "      <td>entity</td>\n",
       "      <td>None</td>\n",
       "      <td>None</td>\n",
       "      <td>[]</td>\n",
       "    </tr>\n",
       "    <tr>\n",
       "      <th>BFO:0000002</th>\n",
       "      <td>continuant</td>\n",
       "      <td>An Entity That Exists In Full At Any Time In W...</td>\n",
       "      <td>None</td>\n",
       "      <td>[BFO:0000001]</td>\n",
       "    </tr>\n",
       "    <tr>\n",
       "      <th>BFO:0000003</th>\n",
       "      <td>occurrent</td>\n",
       "      <td>An Entity That Has Temporal Parts And That Hap...</td>\n",
       "      <td>None</td>\n",
       "      <td>[BFO:0000001]</td>\n",
       "    </tr>\n",
       "    <tr>\n",
       "      <th>BFO:0000004</th>\n",
       "      <td>independent continuant</td>\n",
       "      <td>B Is An Independent Continuant = Def. B Is A C...</td>\n",
       "      <td>None</td>\n",
       "      <td>[BFO:0000002]</td>\n",
       "    </tr>\n",
       "    <tr>\n",
       "      <th>BFO:0000006</th>\n",
       "      <td>spatial region</td>\n",
       "      <td>None</td>\n",
       "      <td>None</td>\n",
       "      <td>[BFO:0000141]</td>\n",
       "    </tr>\n",
       "    <tr>\n",
       "      <th>...</th>\n",
       "      <td>...</td>\n",
       "      <td>...</td>\n",
       "      <td>...</td>\n",
       "      <td>...</td>\n",
       "    </tr>\n",
       "    <tr>\n",
       "      <th>CL:1001569</th>\n",
       "      <td>hippocampal interneuron</td>\n",
       "      <td>An Interneuron With A Soma Found In The Hippoc...</td>\n",
       "      <td>None</td>\n",
       "      <td>[CL:0008031, CL:0002608]</td>\n",
       "    </tr>\n",
       "    <tr>\n",
       "      <th>CL:1001571</th>\n",
       "      <td>hippocampal pyramidal neuron</td>\n",
       "      <td>A Pyramidal Neuron With A Soma Found In The Hi...</td>\n",
       "      <td>None</td>\n",
       "      <td>[CL:4023111, UBERON:0004121, CL:0002608, UBERO...</td>\n",
       "    </tr>\n",
       "    <tr>\n",
       "      <th>CL:1001572</th>\n",
       "      <td>colon endothelial cell</td>\n",
       "      <td>A Vascular Endothelial Cell Found In Colon Blo...</td>\n",
       "      <td>None</td>\n",
       "      <td>[CL:0000115, CL:0011108, UBERON:0000077, UBERO...</td>\n",
       "    </tr>\n",
       "    <tr>\n",
       "      <th>CL:1001573</th>\n",
       "      <td>nasopharyngeal epithelial cell</td>\n",
       "      <td>Cell Of The Nasopharyngeal Epithelium.</td>\n",
       "      <td>None</td>\n",
       "      <td>[CL:0002631, CL:0002251, UBERON:0001728, UBERO...</td>\n",
       "    </tr>\n",
       "    <tr>\n",
       "      <th>CL:1001575</th>\n",
       "      <td>uterine cervix squamous cell</td>\n",
       "      <td>Squamous Cell Of Uterine Cervix Epithelium.</td>\n",
       "      <td>None</td>\n",
       "      <td>[CL:0002535, CL:0000076, UBERON:0000002, UBERO...</td>\n",
       "    </tr>\n",
       "  </tbody>\n",
       "</table>\n",
       "<p>1987 rows × 4 columns</p>\n",
       "</div>"
      ],
      "text/plain": [
       "                                       name  \\\n",
       "ontology_id                                   \n",
       "BFO:0000001                          entity   \n",
       "BFO:0000002                      continuant   \n",
       "BFO:0000003                       occurrent   \n",
       "BFO:0000004          independent continuant   \n",
       "BFO:0000006                  spatial region   \n",
       "...                                     ...   \n",
       "CL:1001569          hippocampal interneuron   \n",
       "CL:1001571     hippocampal pyramidal neuron   \n",
       "CL:1001572           colon endothelial cell   \n",
       "CL:1001573   nasopharyngeal epithelial cell   \n",
       "CL:1001575     uterine cervix squamous cell   \n",
       "\n",
       "                                                    definition synonyms  \\\n",
       "ontology_id                                                               \n",
       "BFO:0000001                                               None     None   \n",
       "BFO:0000002  An Entity That Exists In Full At Any Time In W...     None   \n",
       "BFO:0000003  An Entity That Has Temporal Parts And That Hap...     None   \n",
       "BFO:0000004  B Is An Independent Continuant = Def. B Is A C...     None   \n",
       "BFO:0000006                                               None     None   \n",
       "...                                                        ...      ...   \n",
       "CL:1001569   An Interneuron With A Soma Found In The Hippoc...     None   \n",
       "CL:1001571   A Pyramidal Neuron With A Soma Found In The Hi...     None   \n",
       "CL:1001572   A Vascular Endothelial Cell Found In Colon Blo...     None   \n",
       "CL:1001573              Cell Of The Nasopharyngeal Epithelium.     None   \n",
       "CL:1001575         Squamous Cell Of Uterine Cervix Epithelium.     None   \n",
       "\n",
       "                                                       parents  \n",
       "ontology_id                                                     \n",
       "BFO:0000001                                                 []  \n",
       "BFO:0000002                                      [BFO:0000001]  \n",
       "BFO:0000003                                      [BFO:0000001]  \n",
       "BFO:0000004                                      [BFO:0000002]  \n",
       "BFO:0000006                                      [BFO:0000141]  \n",
       "...                                                        ...  \n",
       "CL:1001569                            [CL:0008031, CL:0002608]  \n",
       "CL:1001571   [CL:4023111, UBERON:0004121, CL:0002608, UBERO...  \n",
       "CL:1001572   [CL:0000115, CL:0011108, UBERON:0000077, UBERO...  \n",
       "CL:1001573   [CL:0002631, CL:0002251, UBERON:0001728, UBERO...  \n",
       "CL:1001575   [CL:0002535, CL:0000076, UBERON:0000002, UBERO...  \n",
       "\n",
       "[1987 rows x 4 columns]"
      ]
     },
     "execution_count": 6,
     "metadata": {},
     "output_type": "execute_result"
    }
   ],
   "source": [
    "bt.Tissue.public().to_pronto().to_df(include_rel=\"part_of\")"
   ]
  },
  {
   "cell_type": "code",
   "execution_count": 61,
   "metadata": {},
   "outputs": [
    {
     "data": {
      "text/plain": [
       "name                                     nucleus of brain\n",
       "definition    A Neural Nucleus That Is Part Of The Brain.\n",
       "synonyms                                    brain nucleus\n",
       "parents                                  [UBERON:0000125]\n",
       "Name: UBERON:0002308, dtype: object"
      ]
     },
     "execution_count": 61,
     "metadata": {},
     "output_type": "execute_result"
    }
   ],
   "source": [
    "_.loc[\"UBERON:0002308\"]"
   ]
  },
  {
   "cell_type": "code",
   "execution_count": null,
   "metadata": {},
   "outputs": [
    {
     "data": {
      "image/svg+xml": [
       "<?xml version=\"1.0\" encoding=\"UTF-8\" standalone=\"no\"?>\n",
       "<!DOCTYPE svg PUBLIC \"-//W3C//DTD SVG 1.1//EN\"\n",
       " \"http://www.w3.org/Graphics/SVG/1.1/DTD/svg11.dtd\">\n",
       "<!-- Generated by graphviz version 2.43.0 (0)\n",
       " -->\n",
       "<!-- Title: 1gADIfWO Pages: 1 -->\n",
       "<svg width=\"308pt\" height=\"404pt\"\n",
       " viewBox=\"0.00 0.00 307.50 404.00\" xmlns=\"http://www.w3.org/2000/svg\" xmlns:xlink=\"http://www.w3.org/1999/xlink\">\n",
       "<g id=\"graph0\" class=\"graph\" transform=\"scale(1 1) rotate(0) translate(4 400)\">\n",
       "<title>1gADIfWO</title>\n",
       "<polygon fill=\"white\" stroke=\"transparent\" points=\"-4,4 -4,-400 303.5,-400 303.5,4 -4,4\"/>\n",
       "<!-- 1gADIfWO -->\n",
       "<g id=\"node1\" class=\"node\">\n",
       "<title>1gADIfWO</title>\n",
       "<path fill=\"#10b981\" stroke=\"#065f46\" d=\"M189.5,-36C189.5,-36 118.5,-36 118.5,-36 112.5,-36 106.5,-30 106.5,-24 106.5,-24 106.5,-12 106.5,-12 106.5,-6 112.5,0 118.5,0 118.5,0 189.5,0 189.5,0 195.5,0 201.5,-6 201.5,-12 201.5,-12 201.5,-24 201.5,-24 201.5,-30 195.5,-36 189.5,-36\"/>\n",
       "<text text-anchor=\"start\" x=\"114.5\" y=\"-21\" font-family=\"Helvetica,sans-Serif\" font-size=\"10.00\">nucleus of brain</text>\n",
       "<text text-anchor=\"start\" x=\"117.5\" y=\"-11\" font-family=\"Monospace\" font-size=\"10.00\" fill=\"GREY\">uid=1gADIfWO</text>\n",
       "</g>\n",
       "<!-- N039zety -->\n",
       "<g id=\"node2\" class=\"node\">\n",
       "<title>N039zety</title>\n",
       "<path fill=\"honeydew\" stroke=\"#065f46\" d=\"M215.5,-396C215.5,-396 92.5,-396 92.5,-396 86.5,-396 80.5,-390 80.5,-384 80.5,-384 80.5,-372 80.5,-372 80.5,-366 86.5,-360 92.5,-360 92.5,-360 215.5,-360 215.5,-360 221.5,-360 227.5,-366 227.5,-372 227.5,-372 227.5,-384 227.5,-384 227.5,-390 221.5,-396 215.5,-396\"/>\n",
       "<text text-anchor=\"start\" x=\"88.5\" y=\"-381\" font-family=\"Helvetica,sans-Serif\" font-size=\"10.00\">material anatomical entity</text>\n",
       "<text text-anchor=\"start\" x=\"117.5\" y=\"-371\" font-family=\"Monospace\" font-size=\"10.00\" fill=\"GREY\">uid=N039zety</text>\n",
       "</g>\n",
       "<!-- 5SGM2iq3 -->\n",
       "<g id=\"node3\" class=\"node\">\n",
       "<title>5SGM2iq3</title>\n",
       "<path fill=\"honeydew\" stroke=\"#065f46\" d=\"M201,-324C201,-324 107,-324 107,-324 101,-324 95,-318 95,-312 95,-312 95,-300 95,-300 95,-294 101,-288 107,-288 107,-288 201,-288 201,-288 207,-288 213,-294 213,-300 213,-300 213,-312 213,-312 213,-318 207,-324 201,-324\"/>\n",
       "<text text-anchor=\"start\" x=\"103\" y=\"-309\" font-family=\"Helvetica,sans-Serif\" font-size=\"10.00\">anatomical structure</text>\n",
       "<text text-anchor=\"start\" x=\"117.5\" y=\"-299\" font-family=\"Monospace\" font-size=\"10.00\" fill=\"GREY\">uid=5SGM2iq3</text>\n",
       "</g>\n",
       "<!-- N039zety&#45;&gt;5SGM2iq3 -->\n",
       "<g id=\"edge1\" class=\"edge\">\n",
       "<title>N039zety&#45;&gt;5SGM2iq3</title>\n",
       "<path fill=\"none\" stroke=\"dimgrey\" d=\"M154,-359.7C154,-350.46 154,-338.98 154,-329.11\"/>\n",
       "<polygon fill=\"dimgrey\" stroke=\"dimgrey\" points=\"155.75,-329.1 154,-324.1 152.25,-329.1 155.75,-329.1\"/>\n",
       "</g>\n",
       "<!-- 50gBhL6a -->\n",
       "<g id=\"node4\" class=\"node\">\n",
       "<title>50gBhL6a</title>\n",
       "<path fill=\"honeydew\" stroke=\"#065f46\" d=\"M138,-252C138,-252 12,-252 12,-252 6,-252 0,-246 0,-240 0,-240 0,-228 0,-228 0,-222 6,-216 12,-216 12,-216 138,-216 138,-216 144,-216 150,-222 150,-228 150,-228 150,-240 150,-240 150,-246 144,-252 138,-252\"/>\n",
       "<text text-anchor=\"start\" x=\"8\" y=\"-237\" font-family=\"Helvetica,sans-Serif\" font-size=\"10.00\">ectoderm&#45;derived structure</text>\n",
       "<text text-anchor=\"start\" x=\"38.5\" y=\"-227\" font-family=\"Monospace\" font-size=\"10.00\" fill=\"GREY\">uid=50gBhL6a</text>\n",
       "</g>\n",
       "<!-- 5SGM2iq3&#45;&gt;50gBhL6a -->\n",
       "<g id=\"edge2\" class=\"edge\">\n",
       "<title>5SGM2iq3&#45;&gt;50gBhL6a</title>\n",
       "<path fill=\"none\" stroke=\"dimgrey\" d=\"M134.47,-287.7C123.47,-277.95 109.66,-265.71 98.12,-255.49\"/>\n",
       "<polygon fill=\"dimgrey\" stroke=\"dimgrey\" points=\"99.21,-254.11 94.3,-252.1 96.89,-256.73 99.21,-254.11\"/>\n",
       "</g>\n",
       "<!-- ne6q08Q3 -->\n",
       "<g id=\"node6\" class=\"node\">\n",
       "<title>ne6q08Q3</title>\n",
       "<path fill=\"honeydew\" stroke=\"#065f46\" d=\"M287.5,-252C287.5,-252 180.5,-252 180.5,-252 174.5,-252 168.5,-246 168.5,-240 168.5,-240 168.5,-228 168.5,-228 168.5,-222 174.5,-216 180.5,-216 180.5,-216 287.5,-216 287.5,-216 293.5,-216 299.5,-222 299.5,-228 299.5,-228 299.5,-240 299.5,-240 299.5,-246 293.5,-252 287.5,-252\"/>\n",
       "<text text-anchor=\"start\" x=\"176.5\" y=\"-237\" font-family=\"Helvetica,sans-Serif\" font-size=\"10.00\">multi cell part structure</text>\n",
       "<text text-anchor=\"start\" x=\"197.5\" y=\"-227\" font-family=\"Monospace\" font-size=\"10.00\" fill=\"GREY\">uid=ne6q08Q3</text>\n",
       "</g>\n",
       "<!-- 5SGM2iq3&#45;&gt;ne6q08Q3 -->\n",
       "<g id=\"edge5\" class=\"edge\">\n",
       "<title>5SGM2iq3&#45;&gt;ne6q08Q3</title>\n",
       "<path fill=\"none\" stroke=\"dimgrey\" d=\"M173.78,-287.7C184.92,-277.95 198.9,-265.71 210.58,-255.49\"/>\n",
       "<polygon fill=\"dimgrey\" stroke=\"dimgrey\" points=\"211.84,-256.71 214.45,-252.1 209.54,-254.08 211.84,-256.71\"/>\n",
       "</g>\n",
       "<!-- 1ESlpjg3 -->\n",
       "<g id=\"node5\" class=\"node\">\n",
       "<title>1ESlpjg3</title>\n",
       "<path fill=\"honeydew\" stroke=\"#065f46\" d=\"M247,-180C247,-180 61,-180 61,-180 55,-180 49,-174 49,-168 49,-168 49,-156 49,-156 49,-150 55,-144 61,-144 61,-144 247,-144 247,-144 253,-144 259,-150 259,-156 259,-156 259,-168 259,-168 259,-174 253,-180 247,-180\"/>\n",
       "<text text-anchor=\"start\" x=\"57\" y=\"-165\" font-family=\"Helvetica,sans-Serif\" font-size=\"10.00\">central nervous system cell part cluster</text>\n",
       "<text text-anchor=\"start\" x=\"117.5\" y=\"-155\" font-family=\"Monospace\" font-size=\"10.00\" fill=\"GREY\">uid=1ESlpjg3</text>\n",
       "</g>\n",
       "<!-- 50gBhL6a&#45;&gt;1ESlpjg3 -->\n",
       "<g id=\"edge3\" class=\"edge\">\n",
       "<title>50gBhL6a&#45;&gt;1ESlpjg3</title>\n",
       "<path fill=\"none\" stroke=\"dimgrey\" d=\"M94.53,-215.7C105.53,-205.95 119.34,-193.71 130.88,-183.49\"/>\n",
       "<polygon fill=\"dimgrey\" stroke=\"dimgrey\" points=\"132.11,-184.73 134.7,-180.1 129.79,-182.11 132.11,-184.73\"/>\n",
       "</g>\n",
       "<!-- 1ZO9pmP9 -->\n",
       "<g id=\"node7\" class=\"node\">\n",
       "<title>1ZO9pmP9</title>\n",
       "<path fill=\"honeydew\" stroke=\"#065f46\" d=\"M186.5,-108C186.5,-108 121.5,-108 121.5,-108 115.5,-108 109.5,-102 109.5,-96 109.5,-96 109.5,-84 109.5,-84 109.5,-78 115.5,-72 121.5,-72 121.5,-72 186.5,-72 186.5,-72 192.5,-72 198.5,-78 198.5,-84 198.5,-84 198.5,-96 198.5,-96 198.5,-102 192.5,-108 186.5,-108\"/>\n",
       "<text text-anchor=\"start\" x=\"118\" y=\"-93\" font-family=\"Helvetica,sans-Serif\" font-size=\"10.00\">neural nucleus</text>\n",
       "<text text-anchor=\"start\" x=\"117.5\" y=\"-83\" font-family=\"Monospace\" font-size=\"10.00\" fill=\"GREY\">uid=1ZO9pmP9</text>\n",
       "</g>\n",
       "<!-- 1ESlpjg3&#45;&gt;1ZO9pmP9 -->\n",
       "<g id=\"edge7\" class=\"edge\">\n",
       "<title>1ESlpjg3&#45;&gt;1ZO9pmP9</title>\n",
       "<path fill=\"none\" stroke=\"dimgrey\" d=\"M154,-143.7C154,-134.46 154,-122.98 154,-113.11\"/>\n",
       "<polygon fill=\"dimgrey\" stroke=\"dimgrey\" points=\"155.75,-113.1 154,-108.1 152.25,-113.1 155.75,-113.1\"/>\n",
       "</g>\n",
       "<!-- ne6q08Q3&#45;&gt;1ESlpjg3 -->\n",
       "<g id=\"edge4\" class=\"edge\">\n",
       "<title>ne6q08Q3&#45;&gt;1ESlpjg3</title>\n",
       "<path fill=\"none\" stroke=\"dimgrey\" d=\"M214.22,-215.7C203.08,-205.95 189.1,-193.71 177.42,-183.49\"/>\n",
       "<polygon fill=\"dimgrey\" stroke=\"dimgrey\" points=\"178.46,-182.08 173.55,-180.1 176.16,-184.71 178.46,-182.08\"/>\n",
       "</g>\n",
       "<!-- 1ZO9pmP9&#45;&gt;1gADIfWO -->\n",
       "<g id=\"edge6\" class=\"edge\">\n",
       "<title>1ZO9pmP9&#45;&gt;1gADIfWO</title>\n",
       "<path fill=\"none\" stroke=\"dimgrey\" d=\"M154,-71.7C154,-62.46 154,-50.98 154,-41.11\"/>\n",
       "<polygon fill=\"dimgrey\" stroke=\"dimgrey\" points=\"155.75,-41.1 154,-36.1 152.25,-41.1 155.75,-41.1\"/>\n",
       "</g>\n",
       "</g>\n",
       "</svg>\n"
      ],
      "text/plain": [
       "<graphviz.graphs.Digraph at 0x7f31e4b31600>"
      ]
     },
     "metadata": {},
     "output_type": "display_data"
    }
   ],
   "source": [
    "bt.Tissue.search(\"nucleus of brain\", field=\"name\",return_queryset=True).first().view_parents()"
   ]
  },
  {
   "cell_type": "code",
   "execution_count": 10,
   "metadata": {},
   "outputs": [
    {
     "ename": "AttributeError",
     "evalue": "'Tissue' object has no attribute 'ontology'",
     "output_type": "error",
     "traceback": [
      "\u001b[0;31m---------------------------------------------------------------------------\u001b[0m",
      "\u001b[0;31mAttributeError\u001b[0m                            Traceback (most recent call last)",
      "Cell \u001b[0;32mIn[10], line 1\u001b[0m\n\u001b[0;32m----> 1\u001b[0m \u001b[43mlb\u001b[49m\u001b[38;5;241;43m.\u001b[39;49m\u001b[43mTissue\u001b[49m\u001b[38;5;241;43m.\u001b[39;49m\u001b[43mpublic\u001b[49m\u001b[43m(\u001b[49m\u001b[43m)\u001b[49m\u001b[38;5;241;43m.\u001b[39;49m\u001b[43montology\u001b[49m\n",
      "\u001b[0;31mAttributeError\u001b[0m: 'Tissue' object has no attribute 'ontology'"
     ]
    }
   ],
   "source": []
  },
  {
   "cell_type": "code",
   "execution_count": 11,
   "metadata": {},
   "outputs": [],
   "source": [
    "obj = bt.Tissue.public().to_pronto()"
   ]
  },
  {
   "cell_type": "code",
   "execution_count": 33,
   "metadata": {},
   "outputs": [],
   "source": [
    "df.parents = df.parents.astype(str)"
   ]
  },
  {
   "cell_type": "code",
   "execution_count": 34,
   "metadata": {},
   "outputs": [
    {
     "data": {
      "text/html": [
       "<div>\n",
       "<style scoped>\n",
       "    .dataframe tbody tr th:only-of-type {\n",
       "        vertical-align: middle;\n",
       "    }\n",
       "\n",
       "    .dataframe tbody tr th {\n",
       "        vertical-align: top;\n",
       "    }\n",
       "\n",
       "    .dataframe thead th {\n",
       "        text-align: right;\n",
       "    }\n",
       "</style>\n",
       "<table border=\"1\" class=\"dataframe\">\n",
       "  <thead>\n",
       "    <tr style=\"text-align: right;\">\n",
       "      <th></th>\n",
       "      <th>name</th>\n",
       "      <th>definition</th>\n",
       "      <th>synonyms</th>\n",
       "      <th>parents</th>\n",
       "    </tr>\n",
       "    <tr>\n",
       "      <th>ontology_id</th>\n",
       "      <th></th>\n",
       "      <th></th>\n",
       "      <th></th>\n",
       "      <th></th>\n",
       "    </tr>\n",
       "  </thead>\n",
       "  <tbody>\n",
       "    <tr>\n",
       "      <th>UBERON:0001883</th>\n",
       "      <td>olfactory tubercle</td>\n",
       "      <td>Region In The Ventral Telencephalon, Prominent...</td>\n",
       "      <td>tuberculum olfactorium</td>\n",
       "      <td>['UBERON:0009663', 'UBERON:0000125']</td>\n",
       "    </tr>\n",
       "    <tr>\n",
       "      <th>UBERON:0002308</th>\n",
       "      <td>nucleus of brain</td>\n",
       "      <td>A Neural Nucleus That Is Part Of The Brain.</td>\n",
       "      <td>brain nucleus</td>\n",
       "      <td>['UBERON:0000125']</td>\n",
       "    </tr>\n",
       "    <tr>\n",
       "      <th>UBERON:0002736</th>\n",
       "      <td>lateral nuclear group of thalamus</td>\n",
       "      <td>The Lateral Nuclear Group Is A Collection Of N...</td>\n",
       "      <td>lateral nucleus of thalamus|lateral nuclear gr...</td>\n",
       "      <td>['UBERON:0015233', 'UBERON:0000125']</td>\n",
       "    </tr>\n",
       "    <tr>\n",
       "      <th>UBERON:0007414</th>\n",
       "      <td>nucleus of midbrain tegmentum</td>\n",
       "      <td>A Nucleus Of Brain That Spans A Midbrain Tegme...</td>\n",
       "      <td>tegmental nuclei|tegmental nucleus</td>\n",
       "      <td>['UBERON:0000125']</td>\n",
       "    </tr>\n",
       "    <tr>\n",
       "      <th>UBERON:0009918</th>\n",
       "      <td>retrotrapezoid nucleus</td>\n",
       "      <td>The Loose Collection Of Neurons That Reside In...</td>\n",
       "      <td>None</td>\n",
       "      <td>['UBERON:0007635', 'UBERON:0000125']</td>\n",
       "    </tr>\n",
       "    <tr>\n",
       "      <th>UBERON:0011777</th>\n",
       "      <td>nucleus of spinal cord</td>\n",
       "      <td>A Neural Nucleus That Is Part Of The Spinal Cord.</td>\n",
       "      <td>spinal cord nucleus</td>\n",
       "      <td>['UBERON:0000125']</td>\n",
       "    </tr>\n",
       "    <tr>\n",
       "      <th>UBERON:0035145</th>\n",
       "      <td>nucleus sacci vasculosi</td>\n",
       "      <td>None</td>\n",
       "      <td>None</td>\n",
       "      <td>['UBERON:0000125']</td>\n",
       "    </tr>\n",
       "    <tr>\n",
       "      <th>UBERON:0035808</th>\n",
       "      <td>robust nucleus of arcopallium</td>\n",
       "      <td>A Specialized Nucleus Within The Intermediate ...</td>\n",
       "      <td>None</td>\n",
       "      <td>['UBERON:0009663', 'UBERON:0000125']</td>\n",
       "    </tr>\n",
       "    <tr>\n",
       "      <th>UBERON:0035973</th>\n",
       "      <td>nucleus incertus</td>\n",
       "      <td>Distinct Cell Group In Caudoventral Regions Of...</td>\n",
       "      <td>None</td>\n",
       "      <td>['UBERON:0006331', 'UBERON:0009662', 'UBERON:0...</td>\n",
       "    </tr>\n",
       "    <tr>\n",
       "      <th>UBERON:0035974</th>\n",
       "      <td>anteroventral preoptic nucleus</td>\n",
       "      <td>None</td>\n",
       "      <td>None</td>\n",
       "      <td>['UBERON:0007251', 'UBERON:0000125']</td>\n",
       "    </tr>\n",
       "    <tr>\n",
       "      <th>UBERON:0035976</th>\n",
       "      <td>accessory abducens nucleus</td>\n",
       "      <td>A Small Cluster Of Neurons In The Pontine Reti...</td>\n",
       "      <td>None</td>\n",
       "      <td>['UBERON:0007413', 'UBERON:0000125']</td>\n",
       "    </tr>\n",
       "    <tr>\n",
       "      <th>UBERON:0035977</th>\n",
       "      <td>bed nucleus of the accessory olfactory tract</td>\n",
       "      <td>A Group Of Cells Near The Surface Of The Brain...</td>\n",
       "      <td>None</td>\n",
       "      <td>['UBERON:0009663', 'UBERON:0000125']</td>\n",
       "    </tr>\n",
       "  </tbody>\n",
       "</table>\n",
       "</div>"
      ],
      "text/plain": [
       "                                                        name  \\\n",
       "ontology_id                                                    \n",
       "UBERON:0001883                            olfactory tubercle   \n",
       "UBERON:0002308                              nucleus of brain   \n",
       "UBERON:0002736             lateral nuclear group of thalamus   \n",
       "UBERON:0007414                 nucleus of midbrain tegmentum   \n",
       "UBERON:0009918                        retrotrapezoid nucleus   \n",
       "UBERON:0011777                        nucleus of spinal cord   \n",
       "UBERON:0035145                       nucleus sacci vasculosi   \n",
       "UBERON:0035808                 robust nucleus of arcopallium   \n",
       "UBERON:0035973                              nucleus incertus   \n",
       "UBERON:0035974                anteroventral preoptic nucleus   \n",
       "UBERON:0035976                    accessory abducens nucleus   \n",
       "UBERON:0035977  bed nucleus of the accessory olfactory tract   \n",
       "\n",
       "                                                       definition  \\\n",
       "ontology_id                                                         \n",
       "UBERON:0001883  Region In The Ventral Telencephalon, Prominent...   \n",
       "UBERON:0002308        A Neural Nucleus That Is Part Of The Brain.   \n",
       "UBERON:0002736  The Lateral Nuclear Group Is A Collection Of N...   \n",
       "UBERON:0007414  A Nucleus Of Brain That Spans A Midbrain Tegme...   \n",
       "UBERON:0009918  The Loose Collection Of Neurons That Reside In...   \n",
       "UBERON:0011777  A Neural Nucleus That Is Part Of The Spinal Cord.   \n",
       "UBERON:0035145                                               None   \n",
       "UBERON:0035808  A Specialized Nucleus Within The Intermediate ...   \n",
       "UBERON:0035973  Distinct Cell Group In Caudoventral Regions Of...   \n",
       "UBERON:0035974                                               None   \n",
       "UBERON:0035976  A Small Cluster Of Neurons In The Pontine Reti...   \n",
       "UBERON:0035977  A Group Of Cells Near The Surface Of The Brain...   \n",
       "\n",
       "                                                         synonyms  \\\n",
       "ontology_id                                                         \n",
       "UBERON:0001883                             tuberculum olfactorium   \n",
       "UBERON:0002308                                      brain nucleus   \n",
       "UBERON:0002736  lateral nucleus of thalamus|lateral nuclear gr...   \n",
       "UBERON:0007414                 tegmental nuclei|tegmental nucleus   \n",
       "UBERON:0009918                                               None   \n",
       "UBERON:0011777                                spinal cord nucleus   \n",
       "UBERON:0035145                                               None   \n",
       "UBERON:0035808                                               None   \n",
       "UBERON:0035973                                               None   \n",
       "UBERON:0035974                                               None   \n",
       "UBERON:0035976                                               None   \n",
       "UBERON:0035977                                               None   \n",
       "\n",
       "                                                          parents  \n",
       "ontology_id                                                        \n",
       "UBERON:0001883               ['UBERON:0009663', 'UBERON:0000125']  \n",
       "UBERON:0002308                                 ['UBERON:0000125']  \n",
       "UBERON:0002736               ['UBERON:0015233', 'UBERON:0000125']  \n",
       "UBERON:0007414                                 ['UBERON:0000125']  \n",
       "UBERON:0009918               ['UBERON:0007635', 'UBERON:0000125']  \n",
       "UBERON:0011777                                 ['UBERON:0000125']  \n",
       "UBERON:0035145                                 ['UBERON:0000125']  \n",
       "UBERON:0035808               ['UBERON:0009663', 'UBERON:0000125']  \n",
       "UBERON:0035973  ['UBERON:0006331', 'UBERON:0009662', 'UBERON:0...  \n",
       "UBERON:0035974               ['UBERON:0007251', 'UBERON:0000125']  \n",
       "UBERON:0035976               ['UBERON:0007413', 'UBERON:0000125']  \n",
       "UBERON:0035977               ['UBERON:0009663', 'UBERON:0000125']  "
      ]
     },
     "execution_count": 34,
     "metadata": {},
     "output_type": "execute_result"
    }
   ],
   "source": [
    "df[df.parents.str.contains('UBERON:0000125')]"
   ]
  },
  {
   "cell_type": "code",
   "execution_count": 21,
   "metadata": {},
   "outputs": [
    {
     "data": {
      "text/html": [
       "<div>\n",
       "<style scoped>\n",
       "    .dataframe tbody tr th:only-of-type {\n",
       "        vertical-align: middle;\n",
       "    }\n",
       "\n",
       "    .dataframe tbody tr th {\n",
       "        vertical-align: top;\n",
       "    }\n",
       "\n",
       "    .dataframe thead th {\n",
       "        text-align: right;\n",
       "    }\n",
       "</style>\n",
       "<table border=\"1\" class=\"dataframe\">\n",
       "  <thead>\n",
       "    <tr style=\"text-align: right;\">\n",
       "      <th></th>\n",
       "      <th>name</th>\n",
       "      <th>definition</th>\n",
       "      <th>synonyms</th>\n",
       "      <th>parents</th>\n",
       "    </tr>\n",
       "    <tr>\n",
       "      <th>ontology_id</th>\n",
       "      <th></th>\n",
       "      <th></th>\n",
       "      <th></th>\n",
       "      <th></th>\n",
       "    </tr>\n",
       "  </thead>\n",
       "  <tbody>\n",
       "    <tr>\n",
       "      <th>UBERON:0002308</th>\n",
       "      <td>nucleus of brain</td>\n",
       "      <td>A Neural Nucleus That Is Part Of The Brain.</td>\n",
       "      <td>brain nucleus</td>\n",
       "      <td>[UBERON:0000125]</td>\n",
       "    </tr>\n",
       "  </tbody>\n",
       "</table>\n",
       "</div>"
      ],
      "text/plain": [
       "                            name                                   definition  \\\n",
       "ontology_id                                                                     \n",
       "UBERON:0002308  nucleus of brain  A Neural Nucleus That Is Part Of The Brain.   \n",
       "\n",
       "                     synonyms           parents  \n",
       "ontology_id                                      \n",
       "UBERON:0002308  brain nucleus  [UBERON:0000125]  "
      ]
     },
     "execution_count": 21,
     "metadata": {},
     "output_type": "execute_result"
    }
   ],
   "source": [
    "df = obj.to_df()\n",
    "df[df['name']==\"nucleus of brain\"]"
   ]
  },
  {
   "cell_type": "code",
   "execution_count": null,
   "metadata": {},
   "outputs": [],
   "source": [
    "groupings, _, lclass = get_ancestry_mapping(cats, parentdf)"
   ]
  },
  {
   "cell_type": "code",
   "execution_count": null,
   "metadata": {},
   "outputs": [],
   "source": [
    "['spinal cord', 'vermiform appendix', 'kidney', 'blood', 'caudal ganglionic eminence', 'skin of body', 'mesenteric lymph node', 'hippocampal formation', 'heart', 'uterine cervix', 'coronal suture', 'eye', 'meningeal dura mater', 'descending colon', 'fovea centralis', 'temporal lobe', 'unknown', 'ascending colon', 'jejunum', 'thyroid gland', 'lamina propria', 'mesonephros', 'venous blood', 'jejunal epithelium', 'cerebral cortex', 'chorionic villus', 'primary motor cortex', 'lung', 'muscle organ', 'thalamic complex', 'cortex of kidney', 'peripheral region of retina', 'bronchopulmonary lymph node', 'thymus', 'lung parenchyma', 'skeletal muscle tissue', 'prostate gland', 'brain meninx', 'esophagus', 'dura mater', 'ileal epithelium', 'ureter', 'fallopian tube', 'spleen', 'breast', 'entorhinal cortex', 'liver', 'primary visual cortex', 'adipose tissue', 'gonad', 'stomach', 'rib', 'caecum', 'pancreas', 'anterior cingulate cortex', 'bladder organ', 'retina', 'small intestine', 'vault of skull', 'duodenum', 'heart left ventricle', 'artery', 'adrenal gland', 'alveolus of lung', 'bone marrow', 'uterus', 'peripheral lymph node', 'renal medulla', 'intestine', 'myelencephalon', 'islet of Langerhans', 'gallbladder', 'lamina propria of small intestine', 'brain', 'zone of skin', 'trachea', 'respiratory airway', 'renal papilla', 'orbitofrontal cortex', 'hypothalamus', 'sigmoid colon', 'placenta', 'ileum', 'medial ganglionic eminence', 'umbilical cord blood', 'ovary', 'pleura', 'transverse colon', 'subdural space', 'rectum', 'lower lobe of left lung', 'cerebellum', 'thoracic lymph node', 'cerebral nuclei', 'parietal lobe', 'omentum', 'testis']\n"
   ]
  }
 ],
 "metadata": {
  "kernelspec": {
   "display_name": "scprint",
   "language": "python",
   "name": "python3"
  },
  "language_info": {
   "codemirror_mode": {
    "name": "ipython",
    "version": 3
   },
   "file_extension": ".py",
   "mimetype": "text/x-python",
   "name": "python",
   "nbconvert_exporter": "python",
   "pygments_lexer": "ipython3",
   "version": "3.10.0"
  }
 },
 "nbformat": 4,
 "nbformat_minor": 2
}
