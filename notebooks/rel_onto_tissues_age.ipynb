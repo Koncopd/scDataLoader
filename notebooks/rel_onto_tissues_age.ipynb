{
 "cells": [
  {
   "cell_type": "code",
   "execution_count": 6,
   "metadata": {},
   "outputs": [
    {
     "name": "stdout",
     "output_type": "stream",
     "text": [
      "'jkobject/scdataloader' not loadable: 'instance-not-reachable'\n",
      "Check your permissions: https://lamin.ai/jkobject/scdataloader?tab=collaborators\n"
     ]
    }
   ],
   "source": [
    "! lamin load scdataloader"
   ]
  },
  {
   "cell_type": "markdown",
   "metadata": {},
   "source": [
    "## preprocess"
   ]
  },
  {
   "cell_type": "code",
   "execution_count": 10,
   "metadata": {},
   "outputs": [],
   "source": [
    "import pandas as pd\n",
    "import torch"
   ]
  },
  {
   "cell_type": "code",
   "execution_count": 4,
   "metadata": {},
   "outputs": [],
   "source": [
    "embeddings = pd.read_parquet('../../scPRINT/data/main/embeddings.parquet')"
   ]
  },
  {
   "cell_type": "code",
   "execution_count": 13,
   "metadata": {},
   "outputs": [],
   "source": [
    "sembeddings = torch.nn.AdaptiveAvgPool1d(128)(\n",
    "    torch.tensor(embeddings.loc[['ENSG00000000003']].values)\n",
    ")"
   ]
  },
  {
   "cell_type": "code",
   "execution_count": 14,
   "metadata": {},
   "outputs": [
    {
     "data": {
      "text/plain": [
       "tensor([[ 3.7021e-03,  1.9993e-02, -3.4491e-03,  1.1713e-02,  7.6410e-03,\n",
       "          3.8214e-02, -2.5759e-03,  1.4394e-02,  1.6626e-02, -2.5141e-02,\n",
       "         -3.0845e-02, -1.7926e-02,  2.9747e-03,  1.4398e-02, -3.4161e-02,\n",
       "          1.1524e-02,  8.0428e-03,  1.2203e-02, -4.4529e-03,  1.6340e-02,\n",
       "         -2.9258e-02,  2.1006e-02, -4.2241e-02, -4.2910e-02,  4.3020e-02,\n",
       "         -3.0580e-02, -3.9011e-02,  2.0069e-02,  1.7439e-02, -1.7942e-02,\n",
       "          1.1015e-02, -1.2625e-02, -8.5026e-03, -7.2202e-03,  4.9086e-03,\n",
       "         -1.3565e-03,  2.5166e-02,  3.2748e-02, -1.4290e-03,  8.9639e-03,\n",
       "          1.7316e-02,  2.2168e-02,  1.0759e-02, -2.9722e-02,  1.0154e-02,\n",
       "          8.2518e-03,  3.5274e-02, -5.7122e-03, -2.0104e-02, -2.9521e-02,\n",
       "          1.0372e-02,  5.1883e-03, -1.3417e-02,  1.7161e-02,  5.3995e-03,\n",
       "         -1.1004e-02,  1.7635e-02,  5.9054e-02, -1.6850e-02,  1.8962e-02,\n",
       "         -8.4115e-03,  1.8526e-02,  2.9677e-02, -1.3948e-02,  8.8496e-03,\n",
       "         -1.7609e-02,  8.1042e-03, -1.1275e-03,  3.8094e-02, -6.6677e-03,\n",
       "          2.5674e-02,  3.2120e-02,  1.2649e-02,  1.6701e-02,  3.6365e-03,\n",
       "          4.1337e-02, -1.6444e-02,  4.5049e-03, -1.0924e-02,  2.7407e-02,\n",
       "         -1.4958e-02, -1.3522e-03,  4.0260e-03,  5.8480e-03, -2.0982e-02,\n",
       "          5.8962e-03,  1.2044e-03, -3.2786e-02, -9.4273e-04,  1.8588e-02,\n",
       "         -5.3187e-03,  5.2998e-03, -1.7994e-02, -1.5629e-02,  4.7982e-02,\n",
       "          4.4628e-02, -2.9259e-05,  1.8827e-02, -6.9406e-03, -4.8162e-03,\n",
       "          4.7291e-03, -5.0094e-03,  7.9910e-03,  3.3655e-02,  2.6448e-02,\n",
       "         -3.6027e-03,  1.8304e-02, -3.9152e-03,  1.0703e-02, -6.3188e-03,\n",
       "         -5.4296e-03,  2.5167e-02, -3.5750e-02,  2.9846e-03,  5.1283e-03,\n",
       "          1.0693e-02, -4.3294e-01,  1.0512e-02,  1.3109e-02,  5.5184e-02,\n",
       "         -6.9749e-03, -1.3813e-02, -7.1409e-03,  3.7017e-02,  1.3736e-02,\n",
       "          2.0224e-02,  3.4460e-02, -3.1282e-02]], dtype=torch.float64)"
      ]
     },
     "execution_count": 14,
     "metadata": {},
     "output_type": "execute_result"
    }
   ],
   "source": [
    "sembeddings"
   ]
  },
  {
   "cell_type": "code",
   "execution_count": 8,
   "metadata": {},
   "outputs": [
    {
     "data": {
      "text/plain": [
       "0      -0.007908\n",
       "1       0.024493\n",
       "2       0.013709\n",
       "3      -0.041936\n",
       "4       0.021441\n",
       "          ...   \n",
       "1019    0.021971\n",
       "1020    0.061902\n",
       "1021   -0.034950\n",
       "1022   -0.106366\n",
       "1023   -0.092494\n",
       "Name: ENSG00000000003, Length: 1024, dtype: float64"
      ]
     },
     "execution_count": 8,
     "metadata": {},
     "output_type": "execute_result"
    }
   ],
   "source": [
    "embeddings.loc['ENSG00000000003']"
   ]
  },
  {
   "cell_type": "code",
   "execution_count": 1,
   "metadata": {},
   "outputs": [],
   "source": [
    "adata = ln.Artifact.filter(version='2', description=\"preprocessed by scDataLoader\").first().lo()"
   ]
  },
  {
   "cell_type": "code",
   "execution_count": null,
   "metadata": {},
   "outputs": [
    {
     "data": {
      "text/plain": [
       "AnnDataAccessor object with n_obs × n_vars = 23349 × 70116\n",
       "  constructed for the AnnData object Mgilie8RUip2slEl4RBk.h5ad\n",
       "    layers: ['clean']\n",
       "    obs: ['_index', 'assay', 'assay_ontology_term_id', 'cell_culture', 'cell_cycle_score', 'cell_type', 'cell_type_ontology_term_id', 'cluster_id', 'development_stage', 'development_stage_ontology_term_id', 'disease', 'disease_ontology_term_id', 'dissection', 'donor_id', 'dpt_group', 'fraction_mitochondrial', 'fraction_unspliced', 'heat_diff', 'is_primary_data', 'leiden_1', 'leiden_2', 'leiden_3', 'log1p_n_genes_by_counts', 'log1p_total_counts', 'log1p_total_counts_hb', 'log1p_total_counts_mt', 'log1p_total_counts_ribo', 'mt_outlier', 'n_genes_by_counts', 'nnz', 'organism', 'organism_ontology_term_id', 'outlier', 'pct_counts_hb', 'pct_counts_in_top_20_genes', 'pct_counts_mt', 'pct_counts_ribo', 'roi', 'sample_id', 'self_reported_ethnicity', 'self_reported_ethnicity_ontology_term_id', 'sex', 'sex_ontology_term_id', 'subcluster_id', 'supercluster_term', 'suspension_type', 'tissue', 'tissue_ontology_term_id', 'total_UMIs', 'total_counts', 'total_counts_hb', 'total_counts_mt', 'total_counts_ribo', 'total_genes']\n",
       "    obsm: ['X_diffmap', 'X_umap', 'clean_pca']\n",
       "    obsp: ['connectivities', 'distances']\n",
       "    uns: ['diffmap_evals', 'iroot', 'leiden', 'neighbors', 'umap', 'unseen_genes']\n",
       "    var: ['Biotype', 'Chromosome', 'End', 'Gene', 'Start', '_index', 'biotype', 'created_by_id', 'description', 'feature_biotype', 'feature_is_filtered', 'feature_name', 'feature_reference', 'hb', 'log1p_mean_counts', 'log1p_total_counts', 'mean_counts', 'mt', 'n_cells_by_counts', 'ncbi_gene_ids', 'organism', 'organism_id', 'pct_dropout_by_counts', 'public_source_id', 'ribo', 'symbol', 'synonyms', 'total_counts', 'uid']"
      ]
     },
     "execution_count": 8,
     "metadata": {},
     "output_type": "execute_result"
    }
   ],
   "source": [
    "adata = adata."
   ]
  },
  {
   "cell_type": "code",
   "execution_count": null,
   "metadata": {},
   "outputs": [
    {
     "ename": "AttributeError",
     "evalue": "'AnnDataAccessor' object has no attribute '_sanitize'",
     "output_type": "error",
     "traceback": [
      "\u001b[0;31m---------------------------------------------------------------------------\u001b[0m",
      "\u001b[0;31mAttributeError\u001b[0m                            Traceback (most recent call last)",
      "Cell \u001b[0;32mIn[13], line 1\u001b[0m\n\u001b[0;32m----> 1\u001b[0m \u001b[43msc\u001b[49m\u001b[38;5;241;43m.\u001b[39;49m\u001b[43mpl\u001b[49m\u001b[38;5;241;43m.\u001b[39;49m\u001b[43mscatter\u001b[49m\u001b[43m(\u001b[49m\u001b[43madata\u001b[49m\u001b[43m,\u001b[49m\u001b[43m \u001b[49m\u001b[43mbasis\u001b[49m\u001b[38;5;241;43m=\u001b[39;49m\u001b[38;5;124;43m\"\u001b[39;49m\u001b[38;5;124;43mdiffmap\u001b[39;49m\u001b[38;5;124;43m\"\u001b[39;49m\u001b[43m,\u001b[49m\u001b[43m \u001b[49m\u001b[43mcolor\u001b[49m\u001b[38;5;241;43m=\u001b[39;49m\u001b[43m[\u001b[49m\u001b[38;5;124;43m'\u001b[39;49m\u001b[38;5;124;43mcell_type_ontology_term_id\u001b[39;49m\u001b[38;5;124;43m'\u001b[39;49m\u001b[43m,\u001b[49m\u001b[43m \u001b[49m\u001b[38;5;124;43m'\u001b[39;49m\u001b[38;5;124;43mheat_diff\u001b[39;49m\u001b[38;5;124;43m'\u001b[39;49m\u001b[43m]\u001b[49m\u001b[43m)\u001b[49m\n",
      "File \u001b[0;32m~/miniconda3/envs/scprint/lib/python3.10/site-packages/scanpy/plotting/_anndata.py:128\u001b[0m, in \u001b[0;36mscatter\u001b[0;34m(adata, x, y, color, use_raw, layers, sort_order, alpha, basis, groups, components, projection, legend_loc, legend_fontsize, legend_fontweight, legend_fontoutline, color_map, palette, frameon, right_margin, left_margin, size, title, show, save, ax)\u001b[0m\n\u001b[1;32m    126\u001b[0m     var_index \u001b[38;5;241m=\u001b[39m adata\u001b[38;5;241m.\u001b[39mvar\u001b[38;5;241m.\u001b[39mindex\n\u001b[1;32m    127\u001b[0m \u001b[38;5;28;01mif\u001b[39;00m basis \u001b[38;5;129;01mis\u001b[39;00m \u001b[38;5;129;01mnot\u001b[39;00m \u001b[38;5;28;01mNone\u001b[39;00m:\n\u001b[0;32m--> 128\u001b[0m     \u001b[38;5;28;01mreturn\u001b[39;00m \u001b[43m_scatter_obs\u001b[49m\u001b[43m(\u001b[49m\u001b[38;5;241;43m*\u001b[39;49m\u001b[38;5;241;43m*\u001b[39;49m\u001b[43margs\u001b[49m\u001b[43m)\u001b[49m\n\u001b[1;32m    129\u001b[0m \u001b[38;5;28;01mif\u001b[39;00m x \u001b[38;5;129;01mis\u001b[39;00m \u001b[38;5;28;01mNone\u001b[39;00m \u001b[38;5;129;01mor\u001b[39;00m y \u001b[38;5;129;01mis\u001b[39;00m \u001b[38;5;28;01mNone\u001b[39;00m:\n\u001b[1;32m    130\u001b[0m     \u001b[38;5;28;01mraise\u001b[39;00m \u001b[38;5;167;01mValueError\u001b[39;00m(\u001b[38;5;124m'\u001b[39m\u001b[38;5;124mEither provide a `basis` or `x` and `y`.\u001b[39m\u001b[38;5;124m'\u001b[39m)\n",
      "File \u001b[0;32m~/miniconda3/envs/scprint/lib/python3.10/site-packages/scanpy/plotting/_anndata.py:185\u001b[0m, in \u001b[0;36m_scatter_obs\u001b[0;34m(adata, x, y, color, use_raw, layers, sort_order, alpha, basis, groups, components, projection, legend_loc, legend_fontsize, legend_fontweight, legend_fontoutline, color_map, palette, frameon, right_margin, left_margin, size, title, show, save, ax)\u001b[0m\n\u001b[1;32m    156\u001b[0m \u001b[38;5;28;01mdef\u001b[39;00m \u001b[38;5;21m_scatter_obs\u001b[39m(\n\u001b[1;32m    157\u001b[0m     adata: AnnData,\n\u001b[1;32m    158\u001b[0m     x\u001b[38;5;241m=\u001b[39m\u001b[38;5;28;01mNone\u001b[39;00m,\n\u001b[0;32m   (...)\u001b[0m\n\u001b[1;32m    182\u001b[0m     ax\u001b[38;5;241m=\u001b[39m\u001b[38;5;28;01mNone\u001b[39;00m,\n\u001b[1;32m    183\u001b[0m ):\n\u001b[1;32m    184\u001b[0m \u001b[38;5;250m    \u001b[39m\u001b[38;5;124;03m\"\"\"See docstring of scatter.\"\"\"\u001b[39;00m\n\u001b[0;32m--> 185\u001b[0m     \u001b[43msanitize_anndata\u001b[49m\u001b[43m(\u001b[49m\u001b[43madata\u001b[49m\u001b[43m)\u001b[49m\n\u001b[1;32m    186\u001b[0m     \u001b[38;5;28;01mfrom\u001b[39;00m \u001b[38;5;21;01mscipy\u001b[39;00m\u001b[38;5;21;01m.\u001b[39;00m\u001b[38;5;21;01msparse\u001b[39;00m \u001b[38;5;28;01mimport\u001b[39;00m issparse\n\u001b[1;32m    188\u001b[0m     use_raw \u001b[38;5;241m=\u001b[39m _check_use_raw(adata, use_raw)\n",
      "File \u001b[0;32m~/miniconda3/envs/scprint/lib/python3.10/site-packages/scanpy/_utils/__init__.py:405\u001b[0m, in \u001b[0;36msanitize_anndata\u001b[0;34m(adata)\u001b[0m\n\u001b[1;32m    403\u001b[0m \u001b[38;5;28;01mdef\u001b[39;00m \u001b[38;5;21msanitize_anndata\u001b[39m(adata):\n\u001b[1;32m    404\u001b[0m \u001b[38;5;250m    \u001b[39m\u001b[38;5;124;03m\"\"\"Transform string annotations to categoricals.\"\"\"\u001b[39;00m\n\u001b[0;32m--> 405\u001b[0m     \u001b[43madata\u001b[49m\u001b[38;5;241;43m.\u001b[39;49m\u001b[43m_sanitize\u001b[49m()\n",
      "\u001b[0;31mAttributeError\u001b[0m: 'AnnDataAccessor' object has no attribute '_sanitize'"
     ]
    }
   ],
   "source": [
    "sc.pl.scatter(adata, basis=\"diffmap\", color=['cell_type_ontology_term_id', 'heat_diff'], components)"
   ]
  },
  {
   "cell_type": "markdown",
   "metadata": {},
   "source": [
    "## assessing unseen genes"
   ]
  },
  {
   "cell_type": "code",
   "execution_count": null,
   "metadata": {},
   "outputs": [
    {
     "name": "stdout",
     "output_type": "stream",
     "text": [
      "💡 found cached instance metadata: /home/ml4ig1/.lamin/instance--jkobject--scdataloader.env\n",
      "💡 loaded instance: jkobject/scdataloader\n",
      "💡 loaded instance: jkobject/scdataloader\n"
     ]
    }
   ],
   "source": [
    "! lamin load scdataloader"
   ]
  },
  {
   "cell_type": "code",
   "execution_count": null,
   "metadata": {},
   "outputs": [
    {
     "name": "stdout",
     "output_type": "stream",
     "text": [
      "💡 lamindb instance: jkobject/scprint\n"
     ]
    },
    {
     "name": "stderr",
     "output_type": "stream",
     "text": [
      "2024-02-26 16:40:37,629:INFO - Created a temporary directory at /local/scratch/tmp/tmp4gxj94l5\n",
      "2024-02-26 16:40:37,630:INFO - Writing /local/scratch/tmp/tmp4gxj94l5/_remote_module_non_scriptable.py\n",
      "2024-02-26 16:40:37,630:INFO - Writing /local/scratch/tmp/tmp4gxj94l5/_remote_module_non_scriptable.py\n"
     ]
    }
   ],
   "source": [
    "from scdataloader import DataModule\n",
    "\n",
    "import bionty as bt\n",
    "import lamindb as ln\n",
    "import lnschema_bionty as lb\n",
    "\n",
    "from scdataloader.utils import get_ancestry_mapping, load_genes\n",
    "\n",
    "import scanpy as sc\n",
    "\n",
    "%load_ext autoreload\n",
    "%autoreload 2"
   ]
  },
  {
   "cell_type": "code",
   "execution_count": null,
   "metadata": {},
   "outputs": [],
   "source": [
    "# TODO: drop tissue & dev stage until part or is taken in account\n",
    "\n",
    "hierarchical_labels = [\n",
    "    \"cell_type_ontology_term_id\", #1\n",
    "    # \"tissue_ontology_term_id\",\n",
    "    \"disease_ontology_term_id\", # 2\n",
    "#    \"development_stage_ontology_term_id\",\n",
    "    \"assay_ontology_term_id\", #3\n",
    "    'self_reported_ethnicity_ontology_term_id', #4\n",
    "]\n",
    "labels_to_pred = hierarchical_labels+[\n",
    "    'sex_ontology_term_id', #5\n",
    "    \"organism_ontology_term_id\", #6\n",
    "]\n",
    "all_labels = labels_to_pred+[\n",
    "    #'dataset_id',\n",
    "    'cell_culture',\n",
    "    \"heat_diff\",\n",
    "    \"total_counts\",\n",
    "    \"nnz\",\n",
    "    \"dpt_group\",\n",
    "]\n",
    "\n",
    "gene_emb = '../data/temp/embeddings.parquet'\n",
    "d_model=128"
   ]
  },
  {
   "cell_type": "code",
   "execution_count": null,
   "metadata": {},
   "outputs": [],
   "source": [
    "# we might want not to order the genes by expression (or do it?)\n",
    "# we might want to not introduce zeros and "
   ]
  },
  {
   "cell_type": "code",
   "execution_count": 14,
   "metadata": {},
   "outputs": [
    {
     "name": "stdout",
     "output_type": "stream",
     "text": [
      "won't do any check but we recommend to have your dataset coming from local storage\n",
      "0.0% are aligned\n",
      "total dataset size is 106.584138411 Gb\n",
      "---\n",
      "dataset contains:\n",
      "     5567614 cells\n",
      "     70116 genes\n",
      "     11 labels\n",
      "     1 organisms\n",
      "dataset contains 230 classes to predict\n",
      "\n",
      "downloading gene names from biomart\n",
      "['ensembl_gene_id', 'hgnc_symbol', 'gene_biotype', 'entrezgene_id', 'start_position', 'chromosome_name']\n",
      "reduced the size to 0.6722574020195106\n",
      "these files will be considered test datasets:\n",
      "    /pasteur/appa/scratch/jkalfon/scprint/.lamindb/BljRloq1xjcxRNDpejzI.h5ad\n",
      "perc test:  0.00226129182087695\n"
     ]
    }
   ],
   "source": [
    "datamodule = DataModule(\n",
    "    collection_name=\"preprocessed dataset\",\n",
    "    #gene_embeddings=gene_emb,\n",
    "    all_labels=all_labels,\n",
    "    hierarchical_labels=hierarchical_labels,\n",
    "    organisms=[\"NCBITaxon:9606\"],\n",
    "    how=\"most expr\",\n",
    "    max_len=1000,\n",
    "    add_zero_genes=100,\n",
    "    label_to_weight=labels_to_pred,\n",
    "    label_to_pred=labels_to_pred,\n",
    "    batch_size=8,\n",
    "    num_workers=1,\n",
    "    validation_split=0.1,\n",
    "    test_split=0.1)\n",
    "testfiles = datamodule.setup()"
   ]
  },
  {
   "cell_type": "code",
   "execution_count": 19,
   "metadata": {},
   "outputs": [
    {
     "data": {
      "text/plain": [
       "1"
      ]
     },
     "execution_count": 19,
     "metadata": {},
     "output_type": "execute_result"
    }
   ],
   "source": [
    "i[0]['organism_ontology_term_id']\n"
   ]
  },
  {
   "cell_type": "code",
   "execution_count": 20,
   "metadata": {},
   "outputs": [
    {
     "name": "stdout",
     "output_type": "stream",
     "text": [
      "39427\n",
      "39427\n",
      "37890\n",
      "37305\n",
      "36611\n",
      "36608\n",
      "32948\n"
     ]
    }
   ],
   "source": [
    "print(len(val))\n"
   ]
  },
  {
   "cell_type": "code",
   "execution_count": 21,
   "metadata": {},
   "outputs": [
    {
     "name": "stdout",
     "output_type": "stream",
     "text": [
      "39427\n",
      "39427\n",
      "37890\n",
      "37890\n",
      "33060\n",
      "33060\n",
      "32953\n",
      "32906\n",
      "32905\n",
      "32903\n",
      "32903\n",
      "32903\n",
      "32903\n",
      "32903\n",
      "32903\n",
      "32903\n",
      "32903\n",
      "32903\n",
      "32902\n",
      "32901\n",
      "32901\n",
      "32901\n",
      "32901\n",
      "32901\n",
      "32901\n",
      "32901\n"
     ]
    },
    {
     "ename": "KeyboardInterrupt",
     "evalue": "",
     "output_type": "error",
     "traceback": [
      "\u001b[0;31m---------------------------------------------------------------------------\u001b[0m",
      "\u001b[0;31mKeyboardInterrupt\u001b[0m                         Traceback (most recent call last)",
      "Cell \u001b[0;32mIn[21], line 2\u001b[0m\n\u001b[1;32m      1\u001b[0m val \u001b[38;5;241m=\u001b[39m \u001b[38;5;28mset\u001b[39m(i[\u001b[38;5;241m0\u001b[39m][\u001b[38;5;124m'\u001b[39m\u001b[38;5;124muns\u001b[39m\u001b[38;5;124m'\u001b[39m])\n\u001b[0;32m----> 2\u001b[0m \u001b[38;5;28;01mfor\u001b[39;00m i \u001b[38;5;129;01min\u001b[39;00m datamodule\u001b[38;5;241m.\u001b[39mtrain_dataloader():\n\u001b[1;32m      3\u001b[0m     \u001b[38;5;28;01mfor\u001b[39;00m j \u001b[38;5;129;01min\u001b[39;00m i[\u001b[38;5;241m1\u001b[39m:]:\n\u001b[1;32m      4\u001b[0m         \u001b[38;5;28;01mif\u001b[39;00m j[\u001b[38;5;124m'\u001b[39m\u001b[38;5;124morganism_ontology_term_id\u001b[39m\u001b[38;5;124m'\u001b[39m] \u001b[38;5;241m==\u001b[39m i[\u001b[38;5;241m0\u001b[39m][\u001b[38;5;124m'\u001b[39m\u001b[38;5;124morganism_ontology_term_id\u001b[39m\u001b[38;5;124m'\u001b[39m]:\n",
      "File \u001b[0;32m~/miniconda3/envs/scprint/lib/python3.10/site-packages/torch/utils/data/dataloader.py:634\u001b[0m, in \u001b[0;36m_BaseDataLoaderIter.__next__\u001b[0;34m(self)\u001b[0m\n\u001b[1;32m    631\u001b[0m \u001b[38;5;28;01mif\u001b[39;00m \u001b[38;5;28mself\u001b[39m\u001b[38;5;241m.\u001b[39m_sampler_iter \u001b[38;5;129;01mis\u001b[39;00m \u001b[38;5;28;01mNone\u001b[39;00m:\n\u001b[1;32m    632\u001b[0m     \u001b[38;5;66;03m# TODO(https://github.com/pytorch/pytorch/issues/76750)\u001b[39;00m\n\u001b[1;32m    633\u001b[0m     \u001b[38;5;28mself\u001b[39m\u001b[38;5;241m.\u001b[39m_reset()  \u001b[38;5;66;03m# type: ignore[call-arg]\u001b[39;00m\n\u001b[0;32m--> 634\u001b[0m data \u001b[38;5;241m=\u001b[39m \u001b[38;5;28;43mself\u001b[39;49m\u001b[38;5;241;43m.\u001b[39;49m\u001b[43m_next_data\u001b[49m\u001b[43m(\u001b[49m\u001b[43m)\u001b[49m\n\u001b[1;32m    635\u001b[0m \u001b[38;5;28mself\u001b[39m\u001b[38;5;241m.\u001b[39m_num_yielded \u001b[38;5;241m+\u001b[39m\u001b[38;5;241m=\u001b[39m \u001b[38;5;241m1\u001b[39m\n\u001b[1;32m    636\u001b[0m \u001b[38;5;28;01mif\u001b[39;00m \u001b[38;5;28mself\u001b[39m\u001b[38;5;241m.\u001b[39m_dataset_kind \u001b[38;5;241m==\u001b[39m _DatasetKind\u001b[38;5;241m.\u001b[39mIterable \u001b[38;5;129;01mand\u001b[39;00m \\\n\u001b[1;32m    637\u001b[0m         \u001b[38;5;28mself\u001b[39m\u001b[38;5;241m.\u001b[39m_IterableDataset_len_called \u001b[38;5;129;01mis\u001b[39;00m \u001b[38;5;129;01mnot\u001b[39;00m \u001b[38;5;28;01mNone\u001b[39;00m \u001b[38;5;129;01mand\u001b[39;00m \\\n\u001b[1;32m    638\u001b[0m         \u001b[38;5;28mself\u001b[39m\u001b[38;5;241m.\u001b[39m_num_yielded \u001b[38;5;241m>\u001b[39m \u001b[38;5;28mself\u001b[39m\u001b[38;5;241m.\u001b[39m_IterableDataset_len_called:\n",
      "File \u001b[0;32m~/miniconda3/envs/scprint/lib/python3.10/site-packages/torch/utils/data/dataloader.py:1329\u001b[0m, in \u001b[0;36m_MultiProcessingDataLoaderIter._next_data\u001b[0;34m(self)\u001b[0m\n\u001b[1;32m   1326\u001b[0m     \u001b[38;5;28;01mreturn\u001b[39;00m \u001b[38;5;28mself\u001b[39m\u001b[38;5;241m.\u001b[39m_process_data(data)\n\u001b[1;32m   1328\u001b[0m \u001b[38;5;28;01massert\u001b[39;00m \u001b[38;5;129;01mnot\u001b[39;00m \u001b[38;5;28mself\u001b[39m\u001b[38;5;241m.\u001b[39m_shutdown \u001b[38;5;129;01mand\u001b[39;00m \u001b[38;5;28mself\u001b[39m\u001b[38;5;241m.\u001b[39m_tasks_outstanding \u001b[38;5;241m>\u001b[39m \u001b[38;5;241m0\u001b[39m\n\u001b[0;32m-> 1329\u001b[0m idx, data \u001b[38;5;241m=\u001b[39m \u001b[38;5;28;43mself\u001b[39;49m\u001b[38;5;241;43m.\u001b[39;49m\u001b[43m_get_data\u001b[49m\u001b[43m(\u001b[49m\u001b[43m)\u001b[49m\n\u001b[1;32m   1330\u001b[0m \u001b[38;5;28mself\u001b[39m\u001b[38;5;241m.\u001b[39m_tasks_outstanding \u001b[38;5;241m-\u001b[39m\u001b[38;5;241m=\u001b[39m \u001b[38;5;241m1\u001b[39m\n\u001b[1;32m   1331\u001b[0m \u001b[38;5;28;01mif\u001b[39;00m \u001b[38;5;28mself\u001b[39m\u001b[38;5;241m.\u001b[39m_dataset_kind \u001b[38;5;241m==\u001b[39m _DatasetKind\u001b[38;5;241m.\u001b[39mIterable:\n\u001b[1;32m   1332\u001b[0m     \u001b[38;5;66;03m# Check for _IterableDatasetStopIteration\u001b[39;00m\n",
      "File \u001b[0;32m~/miniconda3/envs/scprint/lib/python3.10/site-packages/torch/utils/data/dataloader.py:1295\u001b[0m, in \u001b[0;36m_MultiProcessingDataLoaderIter._get_data\u001b[0;34m(self)\u001b[0m\n\u001b[1;32m   1291\u001b[0m     \u001b[38;5;66;03m# In this case, `self._data_queue` is a `queue.Queue`,. But we don't\u001b[39;00m\n\u001b[1;32m   1292\u001b[0m     \u001b[38;5;66;03m# need to call `.task_done()` because we don't use `.join()`.\u001b[39;00m\n\u001b[1;32m   1293\u001b[0m \u001b[38;5;28;01melse\u001b[39;00m:\n\u001b[1;32m   1294\u001b[0m     \u001b[38;5;28;01mwhile\u001b[39;00m \u001b[38;5;28;01mTrue\u001b[39;00m:\n\u001b[0;32m-> 1295\u001b[0m         success, data \u001b[38;5;241m=\u001b[39m \u001b[38;5;28;43mself\u001b[39;49m\u001b[38;5;241;43m.\u001b[39;49m\u001b[43m_try_get_data\u001b[49m\u001b[43m(\u001b[49m\u001b[43m)\u001b[49m\n\u001b[1;32m   1296\u001b[0m         \u001b[38;5;28;01mif\u001b[39;00m success:\n\u001b[1;32m   1297\u001b[0m             \u001b[38;5;28;01mreturn\u001b[39;00m data\n",
      "File \u001b[0;32m~/miniconda3/envs/scprint/lib/python3.10/site-packages/torch/utils/data/dataloader.py:1133\u001b[0m, in \u001b[0;36m_MultiProcessingDataLoaderIter._try_get_data\u001b[0;34m(self, timeout)\u001b[0m\n\u001b[1;32m   1120\u001b[0m \u001b[38;5;28;01mdef\u001b[39;00m \u001b[38;5;21m_try_get_data\u001b[39m(\u001b[38;5;28mself\u001b[39m, timeout\u001b[38;5;241m=\u001b[39m_utils\u001b[38;5;241m.\u001b[39mMP_STATUS_CHECK_INTERVAL):\n\u001b[1;32m   1121\u001b[0m     \u001b[38;5;66;03m# Tries to fetch data from `self._data_queue` once for a given timeout.\u001b[39;00m\n\u001b[1;32m   1122\u001b[0m     \u001b[38;5;66;03m# This can also be used as inner loop of fetching without timeout, with\u001b[39;00m\n\u001b[0;32m   (...)\u001b[0m\n\u001b[1;32m   1130\u001b[0m     \u001b[38;5;66;03m# Returns a 2-tuple:\u001b[39;00m\n\u001b[1;32m   1131\u001b[0m     \u001b[38;5;66;03m#   (bool: whether successfully get data, any: data if successful else None)\u001b[39;00m\n\u001b[1;32m   1132\u001b[0m     \u001b[38;5;28;01mtry\u001b[39;00m:\n\u001b[0;32m-> 1133\u001b[0m         data \u001b[38;5;241m=\u001b[39m \u001b[38;5;28;43mself\u001b[39;49m\u001b[38;5;241;43m.\u001b[39;49m\u001b[43m_data_queue\u001b[49m\u001b[38;5;241;43m.\u001b[39;49m\u001b[43mget\u001b[49m\u001b[43m(\u001b[49m\u001b[43mtimeout\u001b[49m\u001b[38;5;241;43m=\u001b[39;49m\u001b[43mtimeout\u001b[49m\u001b[43m)\u001b[49m\n\u001b[1;32m   1134\u001b[0m         \u001b[38;5;28;01mreturn\u001b[39;00m (\u001b[38;5;28;01mTrue\u001b[39;00m, data)\n\u001b[1;32m   1135\u001b[0m     \u001b[38;5;28;01mexcept\u001b[39;00m \u001b[38;5;167;01mException\u001b[39;00m \u001b[38;5;28;01mas\u001b[39;00m e:\n\u001b[1;32m   1136\u001b[0m         \u001b[38;5;66;03m# At timeout and error, we manually check whether any worker has\u001b[39;00m\n\u001b[1;32m   1137\u001b[0m         \u001b[38;5;66;03m# failed. Note that this is the only mechanism for Windows to detect\u001b[39;00m\n\u001b[1;32m   1138\u001b[0m         \u001b[38;5;66;03m# worker failures.\u001b[39;00m\n",
      "File \u001b[0;32m~/miniconda3/envs/scprint/lib/python3.10/multiprocessing/queues.py:113\u001b[0m, in \u001b[0;36mQueue.get\u001b[0;34m(self, block, timeout)\u001b[0m\n\u001b[1;32m    111\u001b[0m \u001b[38;5;28;01mif\u001b[39;00m block:\n\u001b[1;32m    112\u001b[0m     timeout \u001b[38;5;241m=\u001b[39m deadline \u001b[38;5;241m-\u001b[39m time\u001b[38;5;241m.\u001b[39mmonotonic()\n\u001b[0;32m--> 113\u001b[0m     \u001b[38;5;28;01mif\u001b[39;00m \u001b[38;5;129;01mnot\u001b[39;00m \u001b[38;5;28;43mself\u001b[39;49m\u001b[38;5;241;43m.\u001b[39;49m\u001b[43m_poll\u001b[49m\u001b[43m(\u001b[49m\u001b[43mtimeout\u001b[49m\u001b[43m)\u001b[49m:\n\u001b[1;32m    114\u001b[0m         \u001b[38;5;28;01mraise\u001b[39;00m Empty\n\u001b[1;32m    115\u001b[0m \u001b[38;5;28;01melif\u001b[39;00m \u001b[38;5;129;01mnot\u001b[39;00m \u001b[38;5;28mself\u001b[39m\u001b[38;5;241m.\u001b[39m_poll():\n",
      "File \u001b[0;32m~/miniconda3/envs/scprint/lib/python3.10/multiprocessing/connection.py:262\u001b[0m, in \u001b[0;36m_ConnectionBase.poll\u001b[0;34m(self, timeout)\u001b[0m\n\u001b[1;32m    260\u001b[0m \u001b[38;5;28mself\u001b[39m\u001b[38;5;241m.\u001b[39m_check_closed()\n\u001b[1;32m    261\u001b[0m \u001b[38;5;28mself\u001b[39m\u001b[38;5;241m.\u001b[39m_check_readable()\n\u001b[0;32m--> 262\u001b[0m \u001b[38;5;28;01mreturn\u001b[39;00m \u001b[38;5;28;43mself\u001b[39;49m\u001b[38;5;241;43m.\u001b[39;49m\u001b[43m_poll\u001b[49m\u001b[43m(\u001b[49m\u001b[43mtimeout\u001b[49m\u001b[43m)\u001b[49m\n",
      "File \u001b[0;32m~/miniconda3/envs/scprint/lib/python3.10/multiprocessing/connection.py:429\u001b[0m, in \u001b[0;36mConnection._poll\u001b[0;34m(self, timeout)\u001b[0m\n\u001b[1;32m    428\u001b[0m \u001b[38;5;28;01mdef\u001b[39;00m \u001b[38;5;21m_poll\u001b[39m(\u001b[38;5;28mself\u001b[39m, timeout):\n\u001b[0;32m--> 429\u001b[0m     r \u001b[38;5;241m=\u001b[39m \u001b[43mwait\u001b[49m\u001b[43m(\u001b[49m\u001b[43m[\u001b[49m\u001b[38;5;28;43mself\u001b[39;49m\u001b[43m]\u001b[49m\u001b[43m,\u001b[49m\u001b[43m \u001b[49m\u001b[43mtimeout\u001b[49m\u001b[43m)\u001b[49m\n\u001b[1;32m    430\u001b[0m     \u001b[38;5;28;01mreturn\u001b[39;00m \u001b[38;5;28mbool\u001b[39m(r)\n",
      "File \u001b[0;32m~/miniconda3/envs/scprint/lib/python3.10/multiprocessing/connection.py:936\u001b[0m, in \u001b[0;36mwait\u001b[0;34m(object_list, timeout)\u001b[0m\n\u001b[1;32m    933\u001b[0m     deadline \u001b[38;5;241m=\u001b[39m time\u001b[38;5;241m.\u001b[39mmonotonic() \u001b[38;5;241m+\u001b[39m timeout\n\u001b[1;32m    935\u001b[0m \u001b[38;5;28;01mwhile\u001b[39;00m \u001b[38;5;28;01mTrue\u001b[39;00m:\n\u001b[0;32m--> 936\u001b[0m     ready \u001b[38;5;241m=\u001b[39m \u001b[43mselector\u001b[49m\u001b[38;5;241;43m.\u001b[39;49m\u001b[43mselect\u001b[49m\u001b[43m(\u001b[49m\u001b[43mtimeout\u001b[49m\u001b[43m)\u001b[49m\n\u001b[1;32m    937\u001b[0m     \u001b[38;5;28;01mif\u001b[39;00m ready:\n\u001b[1;32m    938\u001b[0m         \u001b[38;5;28;01mreturn\u001b[39;00m [key\u001b[38;5;241m.\u001b[39mfileobj \u001b[38;5;28;01mfor\u001b[39;00m (key, events) \u001b[38;5;129;01min\u001b[39;00m ready]\n",
      "File \u001b[0;32m~/miniconda3/envs/scprint/lib/python3.10/selectors.py:416\u001b[0m, in \u001b[0;36m_PollLikeSelector.select\u001b[0;34m(self, timeout)\u001b[0m\n\u001b[1;32m    414\u001b[0m ready \u001b[38;5;241m=\u001b[39m []\n\u001b[1;32m    415\u001b[0m \u001b[38;5;28;01mtry\u001b[39;00m:\n\u001b[0;32m--> 416\u001b[0m     fd_event_list \u001b[38;5;241m=\u001b[39m \u001b[38;5;28;43mself\u001b[39;49m\u001b[38;5;241;43m.\u001b[39;49m\u001b[43m_selector\u001b[49m\u001b[38;5;241;43m.\u001b[39;49m\u001b[43mpoll\u001b[49m\u001b[43m(\u001b[49m\u001b[43mtimeout\u001b[49m\u001b[43m)\u001b[49m\n\u001b[1;32m    417\u001b[0m \u001b[38;5;28;01mexcept\u001b[39;00m \u001b[38;5;167;01mInterruptedError\u001b[39;00m:\n\u001b[1;32m    418\u001b[0m     \u001b[38;5;28;01mreturn\u001b[39;00m ready\n",
      "\u001b[0;31mKeyboardInterrupt\u001b[0m: "
     ]
    }
   ],
   "source": [
    "val = set(i[0]['uns'])\n",
    "for i in datamodule.train_dataloader():\n",
    "    for j in i[1:]:\n",
    "        if j['organism_ontology_term_id'] == i[0]['organism_ontology_term_id']:\n",
    "            val = val & set(j['uns'])\n",
    "            print(len(val))"
   ]
  },
  {
   "cell_type": "markdown",
   "metadata": {},
   "source": [
    "## checking neighbors"
   ]
  },
  {
   "cell_type": "code",
   "execution_count": null,
   "metadata": {},
   "outputs": [],
   "source": []
  },
  {
   "cell_type": "code",
   "execution_count": null,
   "metadata": {},
   "outputs": [],
   "source": []
  },
  {
   "cell_type": "markdown",
   "metadata": {},
   "source": [
    "## conversion of parental relationships"
   ]
  },
  {
   "cell_type": "code",
   "execution_count": null,
   "metadata": {},
   "outputs": [],
   "source": [
    "df = bt.Tissue.filter().df()"
   ]
  },
  {
   "cell_type": "code",
   "execution_count": null,
   "metadata": {},
   "outputs": [],
   "source": [
    "parentdf = bt.Tissue.filter().df(include=[\"parents__ontology_id\"]).set_index(\"ontology_id\")"
   ]
  },
  {
   "cell_type": "code",
   "execution_count": null,
   "metadata": {},
   "outputs": [
    {
     "data": {
      "text/plain": [
       "ontology_id\n",
       "UBERON:8440012    [UBERON:0009663]\n",
       "Name: parents__ontology_id, dtype: object"
      ]
     },
     "metadata": {},
     "output_type": "display_data"
    }
   ],
   "source": [
    "ids"
   ]
  },
  {
   "cell_type": "code",
   "execution_count": null,
   "metadata": {},
   "outputs": [
    {
     "data": {
      "text/html": [
       "<div>\n",
       "<style scoped>\n",
       "    .dataframe tbody tr th:only-of-type {\n",
       "        vertical-align: middle;\n",
       "    }\n",
       "\n",
       "    .dataframe tbody tr th {\n",
       "        vertical-align: top;\n",
       "    }\n",
       "\n",
       "    .dataframe thead th {\n",
       "        text-align: right;\n",
       "    }\n",
       "</style>\n",
       "<table border=\"1\" class=\"dataframe\">\n",
       "  <thead>\n",
       "    <tr style=\"text-align: right;\">\n",
       "      <th></th>\n",
       "      <th>name</th>\n",
       "      <th>definition</th>\n",
       "      <th>synonyms</th>\n",
       "      <th>parents</th>\n",
       "    </tr>\n",
       "    <tr>\n",
       "      <th>ontology_id</th>\n",
       "      <th></th>\n",
       "      <th></th>\n",
       "      <th></th>\n",
       "      <th></th>\n",
       "    </tr>\n",
       "  </thead>\n",
       "  <tbody>\n",
       "    <tr>\n",
       "      <th>BFO:0000001</th>\n",
       "      <td>entity</td>\n",
       "      <td>None</td>\n",
       "      <td>None</td>\n",
       "      <td>[]</td>\n",
       "    </tr>\n",
       "    <tr>\n",
       "      <th>BFO:0000002</th>\n",
       "      <td>continuant</td>\n",
       "      <td>An Entity That Exists In Full At Any Time In W...</td>\n",
       "      <td>None</td>\n",
       "      <td>[BFO:0000001]</td>\n",
       "    </tr>\n",
       "    <tr>\n",
       "      <th>BFO:0000003</th>\n",
       "      <td>occurrent</td>\n",
       "      <td>An Entity That Has Temporal Parts And That Hap...</td>\n",
       "      <td>None</td>\n",
       "      <td>[BFO:0000001]</td>\n",
       "    </tr>\n",
       "    <tr>\n",
       "      <th>BFO:0000004</th>\n",
       "      <td>independent continuant</td>\n",
       "      <td>B Is An Independent Continuant = Def. B Is A C...</td>\n",
       "      <td>None</td>\n",
       "      <td>[BFO:0000002]</td>\n",
       "    </tr>\n",
       "    <tr>\n",
       "      <th>BFO:0000006</th>\n",
       "      <td>spatial region</td>\n",
       "      <td>None</td>\n",
       "      <td>None</td>\n",
       "      <td>[BFO:0000141]</td>\n",
       "    </tr>\n",
       "    <tr>\n",
       "      <th>...</th>\n",
       "      <td>...</td>\n",
       "      <td>...</td>\n",
       "      <td>...</td>\n",
       "      <td>...</td>\n",
       "    </tr>\n",
       "    <tr>\n",
       "      <th>CL:1001569</th>\n",
       "      <td>hippocampal interneuron</td>\n",
       "      <td>An Interneuron With A Soma Found In The Hippoc...</td>\n",
       "      <td>None</td>\n",
       "      <td>[CL:0008031, CL:0002608]</td>\n",
       "    </tr>\n",
       "    <tr>\n",
       "      <th>CL:1001571</th>\n",
       "      <td>hippocampal pyramidal neuron</td>\n",
       "      <td>A Pyramidal Neuron With A Soma Found In The Hi...</td>\n",
       "      <td>None</td>\n",
       "      <td>[CL:4023111, UBERON:0004121, CL:0002608, UBERO...</td>\n",
       "    </tr>\n",
       "    <tr>\n",
       "      <th>CL:1001572</th>\n",
       "      <td>colon endothelial cell</td>\n",
       "      <td>A Vascular Endothelial Cell Found In Colon Blo...</td>\n",
       "      <td>None</td>\n",
       "      <td>[CL:0000115, CL:0011108, UBERON:0000077, UBERO...</td>\n",
       "    </tr>\n",
       "    <tr>\n",
       "      <th>CL:1001573</th>\n",
       "      <td>nasopharyngeal epithelial cell</td>\n",
       "      <td>Cell Of The Nasopharyngeal Epithelium.</td>\n",
       "      <td>None</td>\n",
       "      <td>[CL:0002631, CL:0002251, UBERON:0001728, UBERO...</td>\n",
       "    </tr>\n",
       "    <tr>\n",
       "      <th>CL:1001575</th>\n",
       "      <td>uterine cervix squamous cell</td>\n",
       "      <td>Squamous Cell Of Uterine Cervix Epithelium.</td>\n",
       "      <td>None</td>\n",
       "      <td>[CL:0002535, CL:0000076, UBERON:0000002, UBERO...</td>\n",
       "    </tr>\n",
       "  </tbody>\n",
       "</table>\n",
       "<p>1987 rows × 4 columns</p>\n",
       "</div>"
      ],
      "text/plain": [
       "                                       name  \\\n",
       "ontology_id                                   \n",
       "BFO:0000001                          entity   \n",
       "BFO:0000002                      continuant   \n",
       "BFO:0000003                       occurrent   \n",
       "BFO:0000004          independent continuant   \n",
       "BFO:0000006                  spatial region   \n",
       "...                                     ...   \n",
       "CL:1001569          hippocampal interneuron   \n",
       "CL:1001571     hippocampal pyramidal neuron   \n",
       "CL:1001572           colon endothelial cell   \n",
       "CL:1001573   nasopharyngeal epithelial cell   \n",
       "CL:1001575     uterine cervix squamous cell   \n",
       "\n",
       "                                                    definition synonyms  \\\n",
       "ontology_id                                                               \n",
       "BFO:0000001                                               None     None   \n",
       "BFO:0000002  An Entity That Exists In Full At Any Time In W...     None   \n",
       "BFO:0000003  An Entity That Has Temporal Parts And That Hap...     None   \n",
       "BFO:0000004  B Is An Independent Continuant = Def. B Is A C...     None   \n",
       "BFO:0000006                                               None     None   \n",
       "...                                                        ...      ...   \n",
       "CL:1001569   An Interneuron With A Soma Found In The Hippoc...     None   \n",
       "CL:1001571   A Pyramidal Neuron With A Soma Found In The Hi...     None   \n",
       "CL:1001572   A Vascular Endothelial Cell Found In Colon Blo...     None   \n",
       "CL:1001573              Cell Of The Nasopharyngeal Epithelium.     None   \n",
       "CL:1001575         Squamous Cell Of Uterine Cervix Epithelium.     None   \n",
       "\n",
       "                                                       parents  \n",
       "ontology_id                                                     \n",
       "BFO:0000001                                                 []  \n",
       "BFO:0000002                                      [BFO:0000001]  \n",
       "BFO:0000003                                      [BFO:0000001]  \n",
       "BFO:0000004                                      [BFO:0000002]  \n",
       "BFO:0000006                                      [BFO:0000141]  \n",
       "...                                                        ...  \n",
       "CL:1001569                            [CL:0008031, CL:0002608]  \n",
       "CL:1001571   [CL:4023111, UBERON:0004121, CL:0002608, UBERO...  \n",
       "CL:1001572   [CL:0000115, CL:0011108, UBERON:0000077, UBERO...  \n",
       "CL:1001573   [CL:0002631, CL:0002251, UBERON:0001728, UBERO...  \n",
       "CL:1001575   [CL:0002535, CL:0000076, UBERON:0000002, UBERO...  \n",
       "\n",
       "[1987 rows x 4 columns]"
      ]
     },
     "execution_count": 6,
     "metadata": {},
     "output_type": "execute_result"
    }
   ],
   "source": [
    "bt.Tissue.public().to_pronto().to_df(include_rel=\"part_of\")"
   ]
  },
  {
   "cell_type": "code",
   "execution_count": null,
   "metadata": {},
   "outputs": [
    {
     "data": {
      "text/plain": [
       "name                                     nucleus of brain\n",
       "definition    A Neural Nucleus That Is Part Of The Brain.\n",
       "synonyms                                    brain nucleus\n",
       "parents                                  [UBERON:0000125]\n",
       "Name: UBERON:0002308, dtype: object"
      ]
     },
     "execution_count": 61,
     "metadata": {},
     "output_type": "execute_result"
    }
   ],
   "source": [
    "_.loc[\"UBERON:0002308\"]"
   ]
  },
  {
   "cell_type": "code",
   "execution_count": null,
   "metadata": {},
   "outputs": [
    {
     "data": {
      "image/svg+xml": [
       "<?xml version=\"1.0\" encoding=\"UTF-8\" standalone=\"no\"?>\n",
       "<!DOCTYPE svg PUBLIC \"-//W3C//DTD SVG 1.1//EN\"\n",
       " \"http://www.w3.org/Graphics/SVG/1.1/DTD/svg11.dtd\">\n",
       "<!-- Generated by graphviz version 2.43.0 (0)\n",
       " -->\n",
       "<!-- Title: 1gADIfWO Pages: 1 -->\n",
       "<svg width=\"308pt\" height=\"404pt\"\n",
       " viewBox=\"0.00 0.00 307.50 404.00\" xmlns=\"http://www.w3.org/2000/svg\" xmlns:xlink=\"http://www.w3.org/1999/xlink\">\n",
       "<g id=\"graph0\" class=\"graph\" transform=\"scale(1 1) rotate(0) translate(4 400)\">\n",
       "<title>1gADIfWO</title>\n",
       "<polygon fill=\"white\" stroke=\"transparent\" points=\"-4,4 -4,-400 303.5,-400 303.5,4 -4,4\"/>\n",
       "<!-- 1gADIfWO -->\n",
       "<g id=\"node1\" class=\"node\">\n",
       "<title>1gADIfWO</title>\n",
       "<path fill=\"#10b981\" stroke=\"#065f46\" d=\"M189.5,-36C189.5,-36 118.5,-36 118.5,-36 112.5,-36 106.5,-30 106.5,-24 106.5,-24 106.5,-12 106.5,-12 106.5,-6 112.5,0 118.5,0 118.5,0 189.5,0 189.5,0 195.5,0 201.5,-6 201.5,-12 201.5,-12 201.5,-24 201.5,-24 201.5,-30 195.5,-36 189.5,-36\"/>\n",
       "<text text-anchor=\"start\" x=\"114.5\" y=\"-21\" font-family=\"Helvetica,sans-Serif\" font-size=\"10.00\">nucleus of brain</text>\n",
       "<text text-anchor=\"start\" x=\"117.5\" y=\"-11\" font-family=\"Monospace\" font-size=\"10.00\" fill=\"GREY\">uid=1gADIfWO</text>\n",
       "</g>\n",
       "<!-- N039zety -->\n",
       "<g id=\"node2\" class=\"node\">\n",
       "<title>N039zety</title>\n",
       "<path fill=\"honeydew\" stroke=\"#065f46\" d=\"M215.5,-396C215.5,-396 92.5,-396 92.5,-396 86.5,-396 80.5,-390 80.5,-384 80.5,-384 80.5,-372 80.5,-372 80.5,-366 86.5,-360 92.5,-360 92.5,-360 215.5,-360 215.5,-360 221.5,-360 227.5,-366 227.5,-372 227.5,-372 227.5,-384 227.5,-384 227.5,-390 221.5,-396 215.5,-396\"/>\n",
       "<text text-anchor=\"start\" x=\"88.5\" y=\"-381\" font-family=\"Helvetica,sans-Serif\" font-size=\"10.00\">material anatomical entity</text>\n",
       "<text text-anchor=\"start\" x=\"117.5\" y=\"-371\" font-family=\"Monospace\" font-size=\"10.00\" fill=\"GREY\">uid=N039zety</text>\n",
       "</g>\n",
       "<!-- 5SGM2iq3 -->\n",
       "<g id=\"node3\" class=\"node\">\n",
       "<title>5SGM2iq3</title>\n",
       "<path fill=\"honeydew\" stroke=\"#065f46\" d=\"M201,-324C201,-324 107,-324 107,-324 101,-324 95,-318 95,-312 95,-312 95,-300 95,-300 95,-294 101,-288 107,-288 107,-288 201,-288 201,-288 207,-288 213,-294 213,-300 213,-300 213,-312 213,-312 213,-318 207,-324 201,-324\"/>\n",
       "<text text-anchor=\"start\" x=\"103\" y=\"-309\" font-family=\"Helvetica,sans-Serif\" font-size=\"10.00\">anatomical structure</text>\n",
       "<text text-anchor=\"start\" x=\"117.5\" y=\"-299\" font-family=\"Monospace\" font-size=\"10.00\" fill=\"GREY\">uid=5SGM2iq3</text>\n",
       "</g>\n",
       "<!-- N039zety&#45;&gt;5SGM2iq3 -->\n",
       "<g id=\"edge1\" class=\"edge\">\n",
       "<title>N039zety&#45;&gt;5SGM2iq3</title>\n",
       "<path fill=\"none\" stroke=\"dimgrey\" d=\"M154,-359.7C154,-350.46 154,-338.98 154,-329.11\"/>\n",
       "<polygon fill=\"dimgrey\" stroke=\"dimgrey\" points=\"155.75,-329.1 154,-324.1 152.25,-329.1 155.75,-329.1\"/>\n",
       "</g>\n",
       "<!-- 50gBhL6a -->\n",
       "<g id=\"node4\" class=\"node\">\n",
       "<title>50gBhL6a</title>\n",
       "<path fill=\"honeydew\" stroke=\"#065f46\" d=\"M138,-252C138,-252 12,-252 12,-252 6,-252 0,-246 0,-240 0,-240 0,-228 0,-228 0,-222 6,-216 12,-216 12,-216 138,-216 138,-216 144,-216 150,-222 150,-228 150,-228 150,-240 150,-240 150,-246 144,-252 138,-252\"/>\n",
       "<text text-anchor=\"start\" x=\"8\" y=\"-237\" font-family=\"Helvetica,sans-Serif\" font-size=\"10.00\">ectoderm&#45;derived structure</text>\n",
       "<text text-anchor=\"start\" x=\"38.5\" y=\"-227\" font-family=\"Monospace\" font-size=\"10.00\" fill=\"GREY\">uid=50gBhL6a</text>\n",
       "</g>\n",
       "<!-- 5SGM2iq3&#45;&gt;50gBhL6a -->\n",
       "<g id=\"edge2\" class=\"edge\">\n",
       "<title>5SGM2iq3&#45;&gt;50gBhL6a</title>\n",
       "<path fill=\"none\" stroke=\"dimgrey\" d=\"M134.47,-287.7C123.47,-277.95 109.66,-265.71 98.12,-255.49\"/>\n",
       "<polygon fill=\"dimgrey\" stroke=\"dimgrey\" points=\"99.21,-254.11 94.3,-252.1 96.89,-256.73 99.21,-254.11\"/>\n",
       "</g>\n",
       "<!-- ne6q08Q3 -->\n",
       "<g id=\"node6\" class=\"node\">\n",
       "<title>ne6q08Q3</title>\n",
       "<path fill=\"honeydew\" stroke=\"#065f46\" d=\"M287.5,-252C287.5,-252 180.5,-252 180.5,-252 174.5,-252 168.5,-246 168.5,-240 168.5,-240 168.5,-228 168.5,-228 168.5,-222 174.5,-216 180.5,-216 180.5,-216 287.5,-216 287.5,-216 293.5,-216 299.5,-222 299.5,-228 299.5,-228 299.5,-240 299.5,-240 299.5,-246 293.5,-252 287.5,-252\"/>\n",
       "<text text-anchor=\"start\" x=\"176.5\" y=\"-237\" font-family=\"Helvetica,sans-Serif\" font-size=\"10.00\">multi cell part structure</text>\n",
       "<text text-anchor=\"start\" x=\"197.5\" y=\"-227\" font-family=\"Monospace\" font-size=\"10.00\" fill=\"GREY\">uid=ne6q08Q3</text>\n",
       "</g>\n",
       "<!-- 5SGM2iq3&#45;&gt;ne6q08Q3 -->\n",
       "<g id=\"edge5\" class=\"edge\">\n",
       "<title>5SGM2iq3&#45;&gt;ne6q08Q3</title>\n",
       "<path fill=\"none\" stroke=\"dimgrey\" d=\"M173.78,-287.7C184.92,-277.95 198.9,-265.71 210.58,-255.49\"/>\n",
       "<polygon fill=\"dimgrey\" stroke=\"dimgrey\" points=\"211.84,-256.71 214.45,-252.1 209.54,-254.08 211.84,-256.71\"/>\n",
       "</g>\n",
       "<!-- 1ESlpjg3 -->\n",
       "<g id=\"node5\" class=\"node\">\n",
       "<title>1ESlpjg3</title>\n",
       "<path fill=\"honeydew\" stroke=\"#065f46\" d=\"M247,-180C247,-180 61,-180 61,-180 55,-180 49,-174 49,-168 49,-168 49,-156 49,-156 49,-150 55,-144 61,-144 61,-144 247,-144 247,-144 253,-144 259,-150 259,-156 259,-156 259,-168 259,-168 259,-174 253,-180 247,-180\"/>\n",
       "<text text-anchor=\"start\" x=\"57\" y=\"-165\" font-family=\"Helvetica,sans-Serif\" font-size=\"10.00\">central nervous system cell part cluster</text>\n",
       "<text text-anchor=\"start\" x=\"117.5\" y=\"-155\" font-family=\"Monospace\" font-size=\"10.00\" fill=\"GREY\">uid=1ESlpjg3</text>\n",
       "</g>\n",
       "<!-- 50gBhL6a&#45;&gt;1ESlpjg3 -->\n",
       "<g id=\"edge3\" class=\"edge\">\n",
       "<title>50gBhL6a&#45;&gt;1ESlpjg3</title>\n",
       "<path fill=\"none\" stroke=\"dimgrey\" d=\"M94.53,-215.7C105.53,-205.95 119.34,-193.71 130.88,-183.49\"/>\n",
       "<polygon fill=\"dimgrey\" stroke=\"dimgrey\" points=\"132.11,-184.73 134.7,-180.1 129.79,-182.11 132.11,-184.73\"/>\n",
       "</g>\n",
       "<!-- 1ZO9pmP9 -->\n",
       "<g id=\"node7\" class=\"node\">\n",
       "<title>1ZO9pmP9</title>\n",
       "<path fill=\"honeydew\" stroke=\"#065f46\" d=\"M186.5,-108C186.5,-108 121.5,-108 121.5,-108 115.5,-108 109.5,-102 109.5,-96 109.5,-96 109.5,-84 109.5,-84 109.5,-78 115.5,-72 121.5,-72 121.5,-72 186.5,-72 186.5,-72 192.5,-72 198.5,-78 198.5,-84 198.5,-84 198.5,-96 198.5,-96 198.5,-102 192.5,-108 186.5,-108\"/>\n",
       "<text text-anchor=\"start\" x=\"118\" y=\"-93\" font-family=\"Helvetica,sans-Serif\" font-size=\"10.00\">neural nucleus</text>\n",
       "<text text-anchor=\"start\" x=\"117.5\" y=\"-83\" font-family=\"Monospace\" font-size=\"10.00\" fill=\"GREY\">uid=1ZO9pmP9</text>\n",
       "</g>\n",
       "<!-- 1ESlpjg3&#45;&gt;1ZO9pmP9 -->\n",
       "<g id=\"edge7\" class=\"edge\">\n",
       "<title>1ESlpjg3&#45;&gt;1ZO9pmP9</title>\n",
       "<path fill=\"none\" stroke=\"dimgrey\" d=\"M154,-143.7C154,-134.46 154,-122.98 154,-113.11\"/>\n",
       "<polygon fill=\"dimgrey\" stroke=\"dimgrey\" points=\"155.75,-113.1 154,-108.1 152.25,-113.1 155.75,-113.1\"/>\n",
       "</g>\n",
       "<!-- ne6q08Q3&#45;&gt;1ESlpjg3 -->\n",
       "<g id=\"edge4\" class=\"edge\">\n",
       "<title>ne6q08Q3&#45;&gt;1ESlpjg3</title>\n",
       "<path fill=\"none\" stroke=\"dimgrey\" d=\"M214.22,-215.7C203.08,-205.95 189.1,-193.71 177.42,-183.49\"/>\n",
       "<polygon fill=\"dimgrey\" stroke=\"dimgrey\" points=\"178.46,-182.08 173.55,-180.1 176.16,-184.71 178.46,-182.08\"/>\n",
       "</g>\n",
       "<!-- 1ZO9pmP9&#45;&gt;1gADIfWO -->\n",
       "<g id=\"edge6\" class=\"edge\">\n",
       "<title>1ZO9pmP9&#45;&gt;1gADIfWO</title>\n",
       "<path fill=\"none\" stroke=\"dimgrey\" d=\"M154,-71.7C154,-62.46 154,-50.98 154,-41.11\"/>\n",
       "<polygon fill=\"dimgrey\" stroke=\"dimgrey\" points=\"155.75,-41.1 154,-36.1 152.25,-41.1 155.75,-41.1\"/>\n",
       "</g>\n",
       "</g>\n",
       "</svg>\n"
      ],
      "text/plain": [
       "<graphviz.graphs.Digraph at 0x7f31e4b31600>"
      ]
     },
     "metadata": {},
     "output_type": "display_data"
    }
   ],
   "source": [
    "bt.Tissue.search(\"nucleus of brain\", field=\"name\",return_queryset=True).first().view_parents()"
   ]
  },
  {
   "cell_type": "code",
   "execution_count": null,
   "metadata": {},
   "outputs": [
    {
     "ename": "AttributeError",
     "evalue": "'Tissue' object has no attribute 'ontology'",
     "output_type": "error",
     "traceback": [
      "\u001b[0;31m---------------------------------------------------------------------------\u001b[0m",
      "\u001b[0;31mAttributeError\u001b[0m                            Traceback (most recent call last)",
      "Cell \u001b[0;32mIn[10], line 1\u001b[0m\n\u001b[0;32m----> 1\u001b[0m \u001b[43mlb\u001b[49m\u001b[38;5;241;43m.\u001b[39;49m\u001b[43mTissue\u001b[49m\u001b[38;5;241;43m.\u001b[39;49m\u001b[43mpublic\u001b[49m\u001b[43m(\u001b[49m\u001b[43m)\u001b[49m\u001b[38;5;241;43m.\u001b[39;49m\u001b[43montology\u001b[49m\n",
      "\u001b[0;31mAttributeError\u001b[0m: 'Tissue' object has no attribute 'ontology'"
     ]
    }
   ],
   "source": []
  },
  {
   "cell_type": "code",
   "execution_count": null,
   "metadata": {},
   "outputs": [],
   "source": [
    "obj = bt.Tissue.public().to_pronto()"
   ]
  },
  {
   "cell_type": "code",
   "execution_count": null,
   "metadata": {},
   "outputs": [],
   "source": [
    "df.parents = df.parents.astype(str)"
   ]
  },
  {
   "cell_type": "code",
   "execution_count": null,
   "metadata": {},
   "outputs": [
    {
     "data": {
      "text/html": [
       "<div>\n",
       "<style scoped>\n",
       "    .dataframe tbody tr th:only-of-type {\n",
       "        vertical-align: middle;\n",
       "    }\n",
       "\n",
       "    .dataframe tbody tr th {\n",
       "        vertical-align: top;\n",
       "    }\n",
       "\n",
       "    .dataframe thead th {\n",
       "        text-align: right;\n",
       "    }\n",
       "</style>\n",
       "<table border=\"1\" class=\"dataframe\">\n",
       "  <thead>\n",
       "    <tr style=\"text-align: right;\">\n",
       "      <th></th>\n",
       "      <th>name</th>\n",
       "      <th>definition</th>\n",
       "      <th>synonyms</th>\n",
       "      <th>parents</th>\n",
       "    </tr>\n",
       "    <tr>\n",
       "      <th>ontology_id</th>\n",
       "      <th></th>\n",
       "      <th></th>\n",
       "      <th></th>\n",
       "      <th></th>\n",
       "    </tr>\n",
       "  </thead>\n",
       "  <tbody>\n",
       "    <tr>\n",
       "      <th>UBERON:0001883</th>\n",
       "      <td>olfactory tubercle</td>\n",
       "      <td>Region In The Ventral Telencephalon, Prominent...</td>\n",
       "      <td>tuberculum olfactorium</td>\n",
       "      <td>['UBERON:0009663', 'UBERON:0000125']</td>\n",
       "    </tr>\n",
       "    <tr>\n",
       "      <th>UBERON:0002308</th>\n",
       "      <td>nucleus of brain</td>\n",
       "      <td>A Neural Nucleus That Is Part Of The Brain.</td>\n",
       "      <td>brain nucleus</td>\n",
       "      <td>['UBERON:0000125']</td>\n",
       "    </tr>\n",
       "    <tr>\n",
       "      <th>UBERON:0002736</th>\n",
       "      <td>lateral nuclear group of thalamus</td>\n",
       "      <td>The Lateral Nuclear Group Is A Collection Of N...</td>\n",
       "      <td>lateral nucleus of thalamus|lateral nuclear gr...</td>\n",
       "      <td>['UBERON:0015233', 'UBERON:0000125']</td>\n",
       "    </tr>\n",
       "    <tr>\n",
       "      <th>UBERON:0007414</th>\n",
       "      <td>nucleus of midbrain tegmentum</td>\n",
       "      <td>A Nucleus Of Brain That Spans A Midbrain Tegme...</td>\n",
       "      <td>tegmental nuclei|tegmental nucleus</td>\n",
       "      <td>['UBERON:0000125']</td>\n",
       "    </tr>\n",
       "    <tr>\n",
       "      <th>UBERON:0009918</th>\n",
       "      <td>retrotrapezoid nucleus</td>\n",
       "      <td>The Loose Collection Of Neurons That Reside In...</td>\n",
       "      <td>None</td>\n",
       "      <td>['UBERON:0007635', 'UBERON:0000125']</td>\n",
       "    </tr>\n",
       "    <tr>\n",
       "      <th>UBERON:0011777</th>\n",
       "      <td>nucleus of spinal cord</td>\n",
       "      <td>A Neural Nucleus That Is Part Of The Spinal Cord.</td>\n",
       "      <td>spinal cord nucleus</td>\n",
       "      <td>['UBERON:0000125']</td>\n",
       "    </tr>\n",
       "    <tr>\n",
       "      <th>UBERON:0035145</th>\n",
       "      <td>nucleus sacci vasculosi</td>\n",
       "      <td>None</td>\n",
       "      <td>None</td>\n",
       "      <td>['UBERON:0000125']</td>\n",
       "    </tr>\n",
       "    <tr>\n",
       "      <th>UBERON:0035808</th>\n",
       "      <td>robust nucleus of arcopallium</td>\n",
       "      <td>A Specialized Nucleus Within The Intermediate ...</td>\n",
       "      <td>None</td>\n",
       "      <td>['UBERON:0009663', 'UBERON:0000125']</td>\n",
       "    </tr>\n",
       "    <tr>\n",
       "      <th>UBERON:0035973</th>\n",
       "      <td>nucleus incertus</td>\n",
       "      <td>Distinct Cell Group In Caudoventral Regions Of...</td>\n",
       "      <td>None</td>\n",
       "      <td>['UBERON:0006331', 'UBERON:0009662', 'UBERON:0...</td>\n",
       "    </tr>\n",
       "    <tr>\n",
       "      <th>UBERON:0035974</th>\n",
       "      <td>anteroventral preoptic nucleus</td>\n",
       "      <td>None</td>\n",
       "      <td>None</td>\n",
       "      <td>['UBERON:0007251', 'UBERON:0000125']</td>\n",
       "    </tr>\n",
       "    <tr>\n",
       "      <th>UBERON:0035976</th>\n",
       "      <td>accessory abducens nucleus</td>\n",
       "      <td>A Small Cluster Of Neurons In The Pontine Reti...</td>\n",
       "      <td>None</td>\n",
       "      <td>['UBERON:0007413', 'UBERON:0000125']</td>\n",
       "    </tr>\n",
       "    <tr>\n",
       "      <th>UBERON:0035977</th>\n",
       "      <td>bed nucleus of the accessory olfactory tract</td>\n",
       "      <td>A Group Of Cells Near The Surface Of The Brain...</td>\n",
       "      <td>None</td>\n",
       "      <td>['UBERON:0009663', 'UBERON:0000125']</td>\n",
       "    </tr>\n",
       "  </tbody>\n",
       "</table>\n",
       "</div>"
      ],
      "text/plain": [
       "                                                        name  \\\n",
       "ontology_id                                                    \n",
       "UBERON:0001883                            olfactory tubercle   \n",
       "UBERON:0002308                              nucleus of brain   \n",
       "UBERON:0002736             lateral nuclear group of thalamus   \n",
       "UBERON:0007414                 nucleus of midbrain tegmentum   \n",
       "UBERON:0009918                        retrotrapezoid nucleus   \n",
       "UBERON:0011777                        nucleus of spinal cord   \n",
       "UBERON:0035145                       nucleus sacci vasculosi   \n",
       "UBERON:0035808                 robust nucleus of arcopallium   \n",
       "UBERON:0035973                              nucleus incertus   \n",
       "UBERON:0035974                anteroventral preoptic nucleus   \n",
       "UBERON:0035976                    accessory abducens nucleus   \n",
       "UBERON:0035977  bed nucleus of the accessory olfactory tract   \n",
       "\n",
       "                                                       definition  \\\n",
       "ontology_id                                                         \n",
       "UBERON:0001883  Region In The Ventral Telencephalon, Prominent...   \n",
       "UBERON:0002308        A Neural Nucleus That Is Part Of The Brain.   \n",
       "UBERON:0002736  The Lateral Nuclear Group Is A Collection Of N...   \n",
       "UBERON:0007414  A Nucleus Of Brain That Spans A Midbrain Tegme...   \n",
       "UBERON:0009918  The Loose Collection Of Neurons That Reside In...   \n",
       "UBERON:0011777  A Neural Nucleus That Is Part Of The Spinal Cord.   \n",
       "UBERON:0035145                                               None   \n",
       "UBERON:0035808  A Specialized Nucleus Within The Intermediate ...   \n",
       "UBERON:0035973  Distinct Cell Group In Caudoventral Regions Of...   \n",
       "UBERON:0035974                                               None   \n",
       "UBERON:0035976  A Small Cluster Of Neurons In The Pontine Reti...   \n",
       "UBERON:0035977  A Group Of Cells Near The Surface Of The Brain...   \n",
       "\n",
       "                                                         synonyms  \\\n",
       "ontology_id                                                         \n",
       "UBERON:0001883                             tuberculum olfactorium   \n",
       "UBERON:0002308                                      brain nucleus   \n",
       "UBERON:0002736  lateral nucleus of thalamus|lateral nuclear gr...   \n",
       "UBERON:0007414                 tegmental nuclei|tegmental nucleus   \n",
       "UBERON:0009918                                               None   \n",
       "UBERON:0011777                                spinal cord nucleus   \n",
       "UBERON:0035145                                               None   \n",
       "UBERON:0035808                                               None   \n",
       "UBERON:0035973                                               None   \n",
       "UBERON:0035974                                               None   \n",
       "UBERON:0035976                                               None   \n",
       "UBERON:0035977                                               None   \n",
       "\n",
       "                                                          parents  \n",
       "ontology_id                                                        \n",
       "UBERON:0001883               ['UBERON:0009663', 'UBERON:0000125']  \n",
       "UBERON:0002308                                 ['UBERON:0000125']  \n",
       "UBERON:0002736               ['UBERON:0015233', 'UBERON:0000125']  \n",
       "UBERON:0007414                                 ['UBERON:0000125']  \n",
       "UBERON:0009918               ['UBERON:0007635', 'UBERON:0000125']  \n",
       "UBERON:0011777                                 ['UBERON:0000125']  \n",
       "UBERON:0035145                                 ['UBERON:0000125']  \n",
       "UBERON:0035808               ['UBERON:0009663', 'UBERON:0000125']  \n",
       "UBERON:0035973  ['UBERON:0006331', 'UBERON:0009662', 'UBERON:0...  \n",
       "UBERON:0035974               ['UBERON:0007251', 'UBERON:0000125']  \n",
       "UBERON:0035976               ['UBERON:0007413', 'UBERON:0000125']  \n",
       "UBERON:0035977               ['UBERON:0009663', 'UBERON:0000125']  "
      ]
     },
     "execution_count": 34,
     "metadata": {},
     "output_type": "execute_result"
    }
   ],
   "source": [
    "df[df.parents.str.contains('UBERON:0000125')]"
   ]
  },
  {
   "cell_type": "code",
   "execution_count": null,
   "metadata": {},
   "outputs": [
    {
     "data": {
      "text/html": [
       "<div>\n",
       "<style scoped>\n",
       "    .dataframe tbody tr th:only-of-type {\n",
       "        vertical-align: middle;\n",
       "    }\n",
       "\n",
       "    .dataframe tbody tr th {\n",
       "        vertical-align: top;\n",
       "    }\n",
       "\n",
       "    .dataframe thead th {\n",
       "        text-align: right;\n",
       "    }\n",
       "</style>\n",
       "<table border=\"1\" class=\"dataframe\">\n",
       "  <thead>\n",
       "    <tr style=\"text-align: right;\">\n",
       "      <th></th>\n",
       "      <th>name</th>\n",
       "      <th>definition</th>\n",
       "      <th>synonyms</th>\n",
       "      <th>parents</th>\n",
       "    </tr>\n",
       "    <tr>\n",
       "      <th>ontology_id</th>\n",
       "      <th></th>\n",
       "      <th></th>\n",
       "      <th></th>\n",
       "      <th></th>\n",
       "    </tr>\n",
       "  </thead>\n",
       "  <tbody>\n",
       "    <tr>\n",
       "      <th>UBERON:0002308</th>\n",
       "      <td>nucleus of brain</td>\n",
       "      <td>A Neural Nucleus That Is Part Of The Brain.</td>\n",
       "      <td>brain nucleus</td>\n",
       "      <td>[UBERON:0000125]</td>\n",
       "    </tr>\n",
       "  </tbody>\n",
       "</table>\n",
       "</div>"
      ],
      "text/plain": [
       "                            name                                   definition  \\\n",
       "ontology_id                                                                     \n",
       "UBERON:0002308  nucleus of brain  A Neural Nucleus That Is Part Of The Brain.   \n",
       "\n",
       "                     synonyms           parents  \n",
       "ontology_id                                      \n",
       "UBERON:0002308  brain nucleus  [UBERON:0000125]  "
      ]
     },
     "execution_count": 21,
     "metadata": {},
     "output_type": "execute_result"
    }
   ],
   "source": [
    "df = obj.to_df()\n",
    "df[df['name']==\"nucleus of brain\"]"
   ]
  },
  {
   "cell_type": "code",
   "execution_count": null,
   "metadata": {},
   "outputs": [],
   "source": [
    "groupings, _, lclass = get_ancestry_mapping(cats, parentdf)"
   ]
  },
  {
   "cell_type": "code",
   "execution_count": null,
   "metadata": {},
   "outputs": [],
   "source": [
    "['spinal cord', 'vermiform appendix', 'kidney', 'blood', 'caudal ganglionic eminence', 'skin of body', 'mesenteric lymph node', 'hippocampal formation', 'heart', 'uterine cervix', 'coronal suture', 'eye', 'meningeal dura mater', 'descending colon', 'fovea centralis', 'temporal lobe', 'unknown', 'ascending colon', 'jejunum', 'thyroid gland', 'lamina propria', 'mesonephros', 'venous blood', 'jejunal epithelium', 'cerebral cortex', 'chorionic villus', 'primary motor cortex', 'lung', 'muscle organ', 'thalamic complex', 'cortex of kidney', 'peripheral region of retina', 'bronchopulmonary lymph node', 'thymus', 'lung parenchyma', 'skeletal muscle tissue', 'prostate gland', 'brain meninx', 'esophagus', 'dura mater', 'ileal epithelium', 'ureter', 'fallopian tube', 'spleen', 'breast', 'entorhinal cortex', 'liver', 'primary visual cortex', 'adipose tissue', 'gonad', 'stomach', 'rib', 'caecum', 'pancreas', 'anterior cingulate cortex', 'bladder organ', 'retina', 'small intestine', 'vault of skull', 'duodenum', 'heart left ventricle', 'artery', 'adrenal gland', 'alveolus of lung', 'bone marrow', 'uterus', 'peripheral lymph node', 'renal medulla', 'intestine', 'myelencephalon', 'islet of Langerhans', 'gallbladder', 'lamina propria of small intestine', 'brain', 'zone of skin', 'trachea', 'respiratory airway', 'renal papilla', 'orbitofrontal cortex', 'hypothalamus', 'sigmoid colon', 'placenta', 'ileum', 'medial ganglionic eminence', 'umbilical cord blood', 'ovary', 'pleura', 'transverse colon', 'subdural space', 'rectum', 'lower lobe of left lung', 'cerebellum', 'thoracic lymph node', 'cerebral nuclei', 'parietal lobe', 'omentum', 'testis']\n"
   ]
  }
 ],
 "metadata": {
  "kernelspec": {
   "display_name": "scprint",
   "language": "python",
   "name": "python3"
  },
  "language_info": {
   "codemirror_mode": {
    "name": "ipython",
    "version": 3
   },
   "file_extension": ".py",
   "mimetype": "text/x-python",
   "name": "python",
   "nbconvert_exporter": "python",
   "pygments_lexer": "ipython3",
   "version": "3.10.0"
  }
 },
 "nbformat": 4,
 "nbformat_minor": 2
}
