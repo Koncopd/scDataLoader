{
 "cells": [
  {
   "cell_type": "code",
   "execution_count": null,
   "metadata": {},
   "outputs": [
    {
     "name": "stdout",
     "output_type": "stream",
     "text": [
      "💡 found cached instance metadata: /home/ml4ig1/.lamin/instance--jkobject--scprint.env\n",
      "💡 loaded instance: jkobject/scprint\n",
      "\u001b[0m"
     ]
    }
   ],
   "source": [
    "! lamin load scdataloader"
   ]
  },
  {
   "cell_type": "markdown",
   "metadata": {},
   "source": [
    "## preprocess"
   ]
  },
  {
   "cell_type": "code",
   "execution_count": null,
   "metadata": {},
   "outputs": [],
   "source": []
  },
  {
   "cell_type": "code",
   "execution_count": null,
   "metadata": {},
   "outputs": [],
   "source": [
    "ln.Artifact.filter(version='2', description=\"preprocessed by scDataLoader\")"
   ]
  },
  {
   "cell_type": "code",
   "execution_count": null,
   "metadata": {},
   "outputs": [],
   "source": []
  },
  {
   "cell_type": "markdown",
   "metadata": {},
   "source": [
    "## assessing unseen genes"
   ]
  },
  {
   "cell_type": "code",
   "execution_count": 2,
   "metadata": {},
   "outputs": [
    {
     "name": "stdout",
     "output_type": "stream",
     "text": [
      "💡 found cached instance metadata: /home/ml4ig1/.lamin/instance--jkobject--scdataloader.env\n",
      "💡 loaded instance: jkobject/scdataloader\n",
      "💡 loaded instance: jkobject/scdataloader\n"
     ]
    }
   ],
   "source": [
    "! lamin load scdataloader"
   ]
  },
  {
   "cell_type": "code",
   "execution_count": 1,
   "metadata": {},
   "outputs": [
    {
     "name": "stdout",
     "output_type": "stream",
     "text": [
      "💡 lamindb instance: jkobject/scprint\n"
     ]
    },
    {
     "name": "stderr",
     "output_type": "stream",
     "text": [
      "2024-02-21 09:49:57,170:INFO - Created a temporary directory at /tmp/tmpzimy6ink\n",
      "2024-02-21 09:49:57,171:INFO - Writing /tmp/tmpzimy6ink/_remote_module_non_scriptable.py\n",
      "2024-02-21 09:49:57,171:INFO - Writing /tmp/tmpzimy6ink/_remote_module_non_scriptable.py\n"
     ]
    }
   ],
   "source": [
    "from scdataloader import DataModule\n",
    "\n",
    "import bionty as bt\n",
    "import lamindb as ln\n",
    "import lnschema_bionty as lb\n",
    "\n",
    "from scdataloader.utils import get_ancestry_mapping, load_genes\n",
    "\n",
    "%load_ext autoreload\n",
    "%autoreload 2"
   ]
  },
  {
   "cell_type": "code",
   "execution_count": 3,
   "metadata": {},
   "outputs": [],
   "source": [
    "# TODO: drop tissue & dev stage until part or is taken in account\n",
    "\n",
    "hierarchical_labels = [\n",
    "    \"cell_type_ontology_term_id\", #1\n",
    "    # \"tissue_ontology_term_id\",\n",
    "    \"disease_ontology_term_id\", # 2\n",
    "#    \"development_stage_ontology_term_id\",\n",
    "    \"assay_ontology_term_id\", #3\n",
    "    'self_reported_ethnicity_ontology_term_id', #4\n",
    "]\n",
    "labels_to_pred = hierarchical_labels+[\n",
    "    'sex_ontology_term_id', #5\n",
    "    \"organism_ontology_term_id\", #6\n",
    "]\n",
    "all_labels = labels_to_pred+[\n",
    "    #'dataset_id',\n",
    "    'cell_culture',\n",
    "    \"heat_diff\",\n",
    "    \"total_counts\",\n",
    "    \"nnz\",\n",
    "    \"dpt_group\",\n",
    "]\n",
    "\n",
    "gene_emb = '../data/temp/embeddings.parquet'\n",
    "d_model=128"
   ]
  },
  {
   "cell_type": "code",
   "execution_count": null,
   "metadata": {},
   "outputs": [],
   "source": [
    "# we might want not to order the genes by expression (or do it?)\n",
    "# we might want to not introduce zeros and "
   ]
  },
  {
   "cell_type": "code",
   "execution_count": 4,
   "metadata": {},
   "outputs": [
    {
     "name": "stdout",
     "output_type": "stream",
     "text": [
      "won't do any check but we recommend to have your dataset coming from local storage\n"
     ]
    },
    {
     "name": "stdout",
     "output_type": "stream",
     "text": [
      "0.0% are aligned\n",
      "total dataset size is 106.584138411 Gb\n",
      "---\n",
      "dataset contains:\n",
      "     5567614 cells\n",
      "     70116 genes\n",
      "     11 labels\n",
      "     1 organisms\n",
      "dataset contains 230 classes to predict\n",
      "\n",
      "downloading gene names from biomart\n",
      "\n",
      "total dataset size is 106.584138411 Gb\n",
      "---\n",
      "dataset contains:\n",
      "     5567614 cells\n",
      "     70116 genes\n",
      "     11 labels\n",
      "     1 organisms\n",
      "dataset contains 230 classes to predict\n",
      "\n",
      "downloading gene names from biomart\n",
      "['ensembl_gene_id', 'hgnc_symbol', 'gene_biotype', 'entrezgene_id', 'start_position', 'chromosome_name']\n",
      "reduced the size to 0.6722574020195106\n",
      "these files will be considered test datasets:\n",
      "    /home/ml4ig1/scprint/.lamindb/BljRloq1xjcxRNDpejzI.h5ad\n",
      "perc test:  0.00226129182087695\n"
     ]
    }
   ],
   "source": [
    "datamodule = DataModule(\n",
    "    collection_name=\"preprocessed dataset\",\n",
    "    #gene_embeddings=gene_emb,\n",
    "    all_labels=all_labels,\n",
    "    hierarchical_labels=hierarchical_labels,\n",
    "    organisms=[\"NCBITaxon:9606\"],\n",
    "    how=\"most expr\",\n",
    "    max_len=1000,\n",
    "    add_zero_genes=100,\n",
    "    label_to_weight=labels_to_pred,\n",
    "    label_to_pred=labels_to_pred,\n",
    "    batch_size=8,\n",
    "    num_workers=1,\n",
    "    validation_split=0.1,\n",
    "    test_split=0.1)\n",
    "testfiles = datamodule.setup()"
   ]
  },
  {
   "cell_type": "code",
   "execution_count": null,
   "metadata": {},
   "outputs": [],
   "source": []
  },
  {
   "cell_type": "markdown",
   "metadata": {},
   "source": [
    "## checking neighbors"
   ]
  },
  {
   "cell_type": "code",
   "execution_count": null,
   "metadata": {},
   "outputs": [],
   "source": []
  },
  {
   "cell_type": "code",
   "execution_count": null,
   "metadata": {},
   "outputs": [],
   "source": []
  },
  {
   "cell_type": "markdown",
   "metadata": {},
   "source": [
    "## conversion of parental relationships"
   ]
  },
  {
   "cell_type": "code",
   "execution_count": null,
   "metadata": {},
   "outputs": [],
   "source": [
    "df = bt.Tissue.filter().df()"
   ]
  },
  {
   "cell_type": "code",
   "execution_count": null,
   "metadata": {},
   "outputs": [],
   "source": [
    "parentdf = bt.Tissue.filter().df(include=[\"parents__ontology_id\"]).set_index(\"ontology_id\")"
   ]
  },
  {
   "cell_type": "code",
   "execution_count": null,
   "metadata": {},
   "outputs": [
    {
     "data": {
      "text/plain": [
       "ontology_id\n",
       "UBERON:8440012    [UBERON:0009663]\n",
       "Name: parents__ontology_id, dtype: object"
      ]
     },
     "metadata": {},
     "output_type": "display_data"
    }
   ],
   "source": [
    "ids"
   ]
  },
  {
   "cell_type": "code",
   "execution_count": 6,
   "metadata": {},
   "outputs": [
    {
     "data": {
      "text/html": [
       "<div>\n",
       "<style scoped>\n",
       "    .dataframe tbody tr th:only-of-type {\n",
       "        vertical-align: middle;\n",
       "    }\n",
       "\n",
       "    .dataframe tbody tr th {\n",
       "        vertical-align: top;\n",
       "    }\n",
       "\n",
       "    .dataframe thead th {\n",
       "        text-align: right;\n",
       "    }\n",
       "</style>\n",
       "<table border=\"1\" class=\"dataframe\">\n",
       "  <thead>\n",
       "    <tr style=\"text-align: right;\">\n",
       "      <th></th>\n",
       "      <th>name</th>\n",
       "      <th>definition</th>\n",
       "      <th>synonyms</th>\n",
       "      <th>parents</th>\n",
       "    </tr>\n",
       "    <tr>\n",
       "      <th>ontology_id</th>\n",
       "      <th></th>\n",
       "      <th></th>\n",
       "      <th></th>\n",
       "      <th></th>\n",
       "    </tr>\n",
       "  </thead>\n",
       "  <tbody>\n",
       "    <tr>\n",
       "      <th>BFO:0000001</th>\n",
       "      <td>entity</td>\n",
       "      <td>None</td>\n",
       "      <td>None</td>\n",
       "      <td>[]</td>\n",
       "    </tr>\n",
       "    <tr>\n",
       "      <th>BFO:0000002</th>\n",
       "      <td>continuant</td>\n",
       "      <td>An Entity That Exists In Full At Any Time In W...</td>\n",
       "      <td>None</td>\n",
       "      <td>[BFO:0000001]</td>\n",
       "    </tr>\n",
       "    <tr>\n",
       "      <th>BFO:0000003</th>\n",
       "      <td>occurrent</td>\n",
       "      <td>An Entity That Has Temporal Parts And That Hap...</td>\n",
       "      <td>None</td>\n",
       "      <td>[BFO:0000001]</td>\n",
       "    </tr>\n",
       "    <tr>\n",
       "      <th>BFO:0000004</th>\n",
       "      <td>independent continuant</td>\n",
       "      <td>B Is An Independent Continuant = Def. B Is A C...</td>\n",
       "      <td>None</td>\n",
       "      <td>[BFO:0000002]</td>\n",
       "    </tr>\n",
       "    <tr>\n",
       "      <th>BFO:0000006</th>\n",
       "      <td>spatial region</td>\n",
       "      <td>None</td>\n",
       "      <td>None</td>\n",
       "      <td>[BFO:0000141]</td>\n",
       "    </tr>\n",
       "    <tr>\n",
       "      <th>...</th>\n",
       "      <td>...</td>\n",
       "      <td>...</td>\n",
       "      <td>...</td>\n",
       "      <td>...</td>\n",
       "    </tr>\n",
       "    <tr>\n",
       "      <th>CL:1001569</th>\n",
       "      <td>hippocampal interneuron</td>\n",
       "      <td>An Interneuron With A Soma Found In The Hippoc...</td>\n",
       "      <td>None</td>\n",
       "      <td>[CL:0008031, CL:0002608]</td>\n",
       "    </tr>\n",
       "    <tr>\n",
       "      <th>CL:1001571</th>\n",
       "      <td>hippocampal pyramidal neuron</td>\n",
       "      <td>A Pyramidal Neuron With A Soma Found In The Hi...</td>\n",
       "      <td>None</td>\n",
       "      <td>[CL:4023111, UBERON:0004121, CL:0002608, UBERO...</td>\n",
       "    </tr>\n",
       "    <tr>\n",
       "      <th>CL:1001572</th>\n",
       "      <td>colon endothelial cell</td>\n",
       "      <td>A Vascular Endothelial Cell Found In Colon Blo...</td>\n",
       "      <td>None</td>\n",
       "      <td>[CL:0000115, CL:0011108, UBERON:0000077, UBERO...</td>\n",
       "    </tr>\n",
       "    <tr>\n",
       "      <th>CL:1001573</th>\n",
       "      <td>nasopharyngeal epithelial cell</td>\n",
       "      <td>Cell Of The Nasopharyngeal Epithelium.</td>\n",
       "      <td>None</td>\n",
       "      <td>[CL:0002631, CL:0002251, UBERON:0001728, UBERO...</td>\n",
       "    </tr>\n",
       "    <tr>\n",
       "      <th>CL:1001575</th>\n",
       "      <td>uterine cervix squamous cell</td>\n",
       "      <td>Squamous Cell Of Uterine Cervix Epithelium.</td>\n",
       "      <td>None</td>\n",
       "      <td>[CL:0002535, CL:0000076, UBERON:0000002, UBERO...</td>\n",
       "    </tr>\n",
       "  </tbody>\n",
       "</table>\n",
       "<p>1987 rows × 4 columns</p>\n",
       "</div>"
      ],
      "text/plain": [
       "                                       name  \\\n",
       "ontology_id                                   \n",
       "BFO:0000001                          entity   \n",
       "BFO:0000002                      continuant   \n",
       "BFO:0000003                       occurrent   \n",
       "BFO:0000004          independent continuant   \n",
       "BFO:0000006                  spatial region   \n",
       "...                                     ...   \n",
       "CL:1001569          hippocampal interneuron   \n",
       "CL:1001571     hippocampal pyramidal neuron   \n",
       "CL:1001572           colon endothelial cell   \n",
       "CL:1001573   nasopharyngeal epithelial cell   \n",
       "CL:1001575     uterine cervix squamous cell   \n",
       "\n",
       "                                                    definition synonyms  \\\n",
       "ontology_id                                                               \n",
       "BFO:0000001                                               None     None   \n",
       "BFO:0000002  An Entity That Exists In Full At Any Time In W...     None   \n",
       "BFO:0000003  An Entity That Has Temporal Parts And That Hap...     None   \n",
       "BFO:0000004  B Is An Independent Continuant = Def. B Is A C...     None   \n",
       "BFO:0000006                                               None     None   \n",
       "...                                                        ...      ...   \n",
       "CL:1001569   An Interneuron With A Soma Found In The Hippoc...     None   \n",
       "CL:1001571   A Pyramidal Neuron With A Soma Found In The Hi...     None   \n",
       "CL:1001572   A Vascular Endothelial Cell Found In Colon Blo...     None   \n",
       "CL:1001573              Cell Of The Nasopharyngeal Epithelium.     None   \n",
       "CL:1001575         Squamous Cell Of Uterine Cervix Epithelium.     None   \n",
       "\n",
       "                                                       parents  \n",
       "ontology_id                                                     \n",
       "BFO:0000001                                                 []  \n",
       "BFO:0000002                                      [BFO:0000001]  \n",
       "BFO:0000003                                      [BFO:0000001]  \n",
       "BFO:0000004                                      [BFO:0000002]  \n",
       "BFO:0000006                                      [BFO:0000141]  \n",
       "...                                                        ...  \n",
       "CL:1001569                            [CL:0008031, CL:0002608]  \n",
       "CL:1001571   [CL:4023111, UBERON:0004121, CL:0002608, UBERO...  \n",
       "CL:1001572   [CL:0000115, CL:0011108, UBERON:0000077, UBERO...  \n",
       "CL:1001573   [CL:0002631, CL:0002251, UBERON:0001728, UBERO...  \n",
       "CL:1001575   [CL:0002535, CL:0000076, UBERON:0000002, UBERO...  \n",
       "\n",
       "[1987 rows x 4 columns]"
      ]
     },
     "execution_count": 6,
     "metadata": {},
     "output_type": "execute_result"
    }
   ],
   "source": [
    "bt.Tissue.public().to_pronto().to_df(include_rel=\"part_of\")"
   ]
  },
  {
   "cell_type": "code",
   "execution_count": 61,
   "metadata": {},
   "outputs": [
    {
     "data": {
      "text/plain": [
       "name                                     nucleus of brain\n",
       "definition    A Neural Nucleus That Is Part Of The Brain.\n",
       "synonyms                                    brain nucleus\n",
       "parents                                  [UBERON:0000125]\n",
       "Name: UBERON:0002308, dtype: object"
      ]
     },
     "execution_count": 61,
     "metadata": {},
     "output_type": "execute_result"
    }
   ],
   "source": [
    "_.loc[\"UBERON:0002308\"]"
   ]
  },
  {
   "cell_type": "code",
   "execution_count": null,
   "metadata": {},
   "outputs": [
    {
     "data": {
      "image/svg+xml": [
       "<?xml version=\"1.0\" encoding=\"UTF-8\" standalone=\"no\"?>\n",
       "<!DOCTYPE svg PUBLIC \"-//W3C//DTD SVG 1.1//EN\"\n",
       " \"http://www.w3.org/Graphics/SVG/1.1/DTD/svg11.dtd\">\n",
       "<!-- Generated by graphviz version 2.43.0 (0)\n",
       " -->\n",
       "<!-- Title: 1gADIfWO Pages: 1 -->\n",
       "<svg width=\"308pt\" height=\"404pt\"\n",
       " viewBox=\"0.00 0.00 307.50 404.00\" xmlns=\"http://www.w3.org/2000/svg\" xmlns:xlink=\"http://www.w3.org/1999/xlink\">\n",
       "<g id=\"graph0\" class=\"graph\" transform=\"scale(1 1) rotate(0) translate(4 400)\">\n",
       "<title>1gADIfWO</title>\n",
       "<polygon fill=\"white\" stroke=\"transparent\" points=\"-4,4 -4,-400 303.5,-400 303.5,4 -4,4\"/>\n",
       "<!-- 1gADIfWO -->\n",
       "<g id=\"node1\" class=\"node\">\n",
       "<title>1gADIfWO</title>\n",
       "<path fill=\"#10b981\" stroke=\"#065f46\" d=\"M189.5,-36C189.5,-36 118.5,-36 118.5,-36 112.5,-36 106.5,-30 106.5,-24 106.5,-24 106.5,-12 106.5,-12 106.5,-6 112.5,0 118.5,0 118.5,0 189.5,0 189.5,0 195.5,0 201.5,-6 201.5,-12 201.5,-12 201.5,-24 201.5,-24 201.5,-30 195.5,-36 189.5,-36\"/>\n",
       "<text text-anchor=\"start\" x=\"114.5\" y=\"-21\" font-family=\"Helvetica,sans-Serif\" font-size=\"10.00\">nucleus of brain</text>\n",
       "<text text-anchor=\"start\" x=\"117.5\" y=\"-11\" font-family=\"Monospace\" font-size=\"10.00\" fill=\"GREY\">uid=1gADIfWO</text>\n",
       "</g>\n",
       "<!-- N039zety -->\n",
       "<g id=\"node2\" class=\"node\">\n",
       "<title>N039zety</title>\n",
       "<path fill=\"honeydew\" stroke=\"#065f46\" d=\"M215.5,-396C215.5,-396 92.5,-396 92.5,-396 86.5,-396 80.5,-390 80.5,-384 80.5,-384 80.5,-372 80.5,-372 80.5,-366 86.5,-360 92.5,-360 92.5,-360 215.5,-360 215.5,-360 221.5,-360 227.5,-366 227.5,-372 227.5,-372 227.5,-384 227.5,-384 227.5,-390 221.5,-396 215.5,-396\"/>\n",
       "<text text-anchor=\"start\" x=\"88.5\" y=\"-381\" font-family=\"Helvetica,sans-Serif\" font-size=\"10.00\">material anatomical entity</text>\n",
       "<text text-anchor=\"start\" x=\"117.5\" y=\"-371\" font-family=\"Monospace\" font-size=\"10.00\" fill=\"GREY\">uid=N039zety</text>\n",
       "</g>\n",
       "<!-- 5SGM2iq3 -->\n",
       "<g id=\"node3\" class=\"node\">\n",
       "<title>5SGM2iq3</title>\n",
       "<path fill=\"honeydew\" stroke=\"#065f46\" d=\"M201,-324C201,-324 107,-324 107,-324 101,-324 95,-318 95,-312 95,-312 95,-300 95,-300 95,-294 101,-288 107,-288 107,-288 201,-288 201,-288 207,-288 213,-294 213,-300 213,-300 213,-312 213,-312 213,-318 207,-324 201,-324\"/>\n",
       "<text text-anchor=\"start\" x=\"103\" y=\"-309\" font-family=\"Helvetica,sans-Serif\" font-size=\"10.00\">anatomical structure</text>\n",
       "<text text-anchor=\"start\" x=\"117.5\" y=\"-299\" font-family=\"Monospace\" font-size=\"10.00\" fill=\"GREY\">uid=5SGM2iq3</text>\n",
       "</g>\n",
       "<!-- N039zety&#45;&gt;5SGM2iq3 -->\n",
       "<g id=\"edge1\" class=\"edge\">\n",
       "<title>N039zety&#45;&gt;5SGM2iq3</title>\n",
       "<path fill=\"none\" stroke=\"dimgrey\" d=\"M154,-359.7C154,-350.46 154,-338.98 154,-329.11\"/>\n",
       "<polygon fill=\"dimgrey\" stroke=\"dimgrey\" points=\"155.75,-329.1 154,-324.1 152.25,-329.1 155.75,-329.1\"/>\n",
       "</g>\n",
       "<!-- 50gBhL6a -->\n",
       "<g id=\"node4\" class=\"node\">\n",
       "<title>50gBhL6a</title>\n",
       "<path fill=\"honeydew\" stroke=\"#065f46\" d=\"M138,-252C138,-252 12,-252 12,-252 6,-252 0,-246 0,-240 0,-240 0,-228 0,-228 0,-222 6,-216 12,-216 12,-216 138,-216 138,-216 144,-216 150,-222 150,-228 150,-228 150,-240 150,-240 150,-246 144,-252 138,-252\"/>\n",
       "<text text-anchor=\"start\" x=\"8\" y=\"-237\" font-family=\"Helvetica,sans-Serif\" font-size=\"10.00\">ectoderm&#45;derived structure</text>\n",
       "<text text-anchor=\"start\" x=\"38.5\" y=\"-227\" font-family=\"Monospace\" font-size=\"10.00\" fill=\"GREY\">uid=50gBhL6a</text>\n",
       "</g>\n",
       "<!-- 5SGM2iq3&#45;&gt;50gBhL6a -->\n",
       "<g id=\"edge2\" class=\"edge\">\n",
       "<title>5SGM2iq3&#45;&gt;50gBhL6a</title>\n",
       "<path fill=\"none\" stroke=\"dimgrey\" d=\"M134.47,-287.7C123.47,-277.95 109.66,-265.71 98.12,-255.49\"/>\n",
       "<polygon fill=\"dimgrey\" stroke=\"dimgrey\" points=\"99.21,-254.11 94.3,-252.1 96.89,-256.73 99.21,-254.11\"/>\n",
       "</g>\n",
       "<!-- ne6q08Q3 -->\n",
       "<g id=\"node6\" class=\"node\">\n",
       "<title>ne6q08Q3</title>\n",
       "<path fill=\"honeydew\" stroke=\"#065f46\" d=\"M287.5,-252C287.5,-252 180.5,-252 180.5,-252 174.5,-252 168.5,-246 168.5,-240 168.5,-240 168.5,-228 168.5,-228 168.5,-222 174.5,-216 180.5,-216 180.5,-216 287.5,-216 287.5,-216 293.5,-216 299.5,-222 299.5,-228 299.5,-228 299.5,-240 299.5,-240 299.5,-246 293.5,-252 287.5,-252\"/>\n",
       "<text text-anchor=\"start\" x=\"176.5\" y=\"-237\" font-family=\"Helvetica,sans-Serif\" font-size=\"10.00\">multi cell part structure</text>\n",
       "<text text-anchor=\"start\" x=\"197.5\" y=\"-227\" font-family=\"Monospace\" font-size=\"10.00\" fill=\"GREY\">uid=ne6q08Q3</text>\n",
       "</g>\n",
       "<!-- 5SGM2iq3&#45;&gt;ne6q08Q3 -->\n",
       "<g id=\"edge5\" class=\"edge\">\n",
       "<title>5SGM2iq3&#45;&gt;ne6q08Q3</title>\n",
       "<path fill=\"none\" stroke=\"dimgrey\" d=\"M173.78,-287.7C184.92,-277.95 198.9,-265.71 210.58,-255.49\"/>\n",
       "<polygon fill=\"dimgrey\" stroke=\"dimgrey\" points=\"211.84,-256.71 214.45,-252.1 209.54,-254.08 211.84,-256.71\"/>\n",
       "</g>\n",
       "<!-- 1ESlpjg3 -->\n",
       "<g id=\"node5\" class=\"node\">\n",
       "<title>1ESlpjg3</title>\n",
       "<path fill=\"honeydew\" stroke=\"#065f46\" d=\"M247,-180C247,-180 61,-180 61,-180 55,-180 49,-174 49,-168 49,-168 49,-156 49,-156 49,-150 55,-144 61,-144 61,-144 247,-144 247,-144 253,-144 259,-150 259,-156 259,-156 259,-168 259,-168 259,-174 253,-180 247,-180\"/>\n",
       "<text text-anchor=\"start\" x=\"57\" y=\"-165\" font-family=\"Helvetica,sans-Serif\" font-size=\"10.00\">central nervous system cell part cluster</text>\n",
       "<text text-anchor=\"start\" x=\"117.5\" y=\"-155\" font-family=\"Monospace\" font-size=\"10.00\" fill=\"GREY\">uid=1ESlpjg3</text>\n",
       "</g>\n",
       "<!-- 50gBhL6a&#45;&gt;1ESlpjg3 -->\n",
       "<g id=\"edge3\" class=\"edge\">\n",
       "<title>50gBhL6a&#45;&gt;1ESlpjg3</title>\n",
       "<path fill=\"none\" stroke=\"dimgrey\" d=\"M94.53,-215.7C105.53,-205.95 119.34,-193.71 130.88,-183.49\"/>\n",
       "<polygon fill=\"dimgrey\" stroke=\"dimgrey\" points=\"132.11,-184.73 134.7,-180.1 129.79,-182.11 132.11,-184.73\"/>\n",
       "</g>\n",
       "<!-- 1ZO9pmP9 -->\n",
       "<g id=\"node7\" class=\"node\">\n",
       "<title>1ZO9pmP9</title>\n",
       "<path fill=\"honeydew\" stroke=\"#065f46\" d=\"M186.5,-108C186.5,-108 121.5,-108 121.5,-108 115.5,-108 109.5,-102 109.5,-96 109.5,-96 109.5,-84 109.5,-84 109.5,-78 115.5,-72 121.5,-72 121.5,-72 186.5,-72 186.5,-72 192.5,-72 198.5,-78 198.5,-84 198.5,-84 198.5,-96 198.5,-96 198.5,-102 192.5,-108 186.5,-108\"/>\n",
       "<text text-anchor=\"start\" x=\"118\" y=\"-93\" font-family=\"Helvetica,sans-Serif\" font-size=\"10.00\">neural nucleus</text>\n",
       "<text text-anchor=\"start\" x=\"117.5\" y=\"-83\" font-family=\"Monospace\" font-size=\"10.00\" fill=\"GREY\">uid=1ZO9pmP9</text>\n",
       "</g>\n",
       "<!-- 1ESlpjg3&#45;&gt;1ZO9pmP9 -->\n",
       "<g id=\"edge7\" class=\"edge\">\n",
       "<title>1ESlpjg3&#45;&gt;1ZO9pmP9</title>\n",
       "<path fill=\"none\" stroke=\"dimgrey\" d=\"M154,-143.7C154,-134.46 154,-122.98 154,-113.11\"/>\n",
       "<polygon fill=\"dimgrey\" stroke=\"dimgrey\" points=\"155.75,-113.1 154,-108.1 152.25,-113.1 155.75,-113.1\"/>\n",
       "</g>\n",
       "<!-- ne6q08Q3&#45;&gt;1ESlpjg3 -->\n",
       "<g id=\"edge4\" class=\"edge\">\n",
       "<title>ne6q08Q3&#45;&gt;1ESlpjg3</title>\n",
       "<path fill=\"none\" stroke=\"dimgrey\" d=\"M214.22,-215.7C203.08,-205.95 189.1,-193.71 177.42,-183.49\"/>\n",
       "<polygon fill=\"dimgrey\" stroke=\"dimgrey\" points=\"178.46,-182.08 173.55,-180.1 176.16,-184.71 178.46,-182.08\"/>\n",
       "</g>\n",
       "<!-- 1ZO9pmP9&#45;&gt;1gADIfWO -->\n",
       "<g id=\"edge6\" class=\"edge\">\n",
       "<title>1ZO9pmP9&#45;&gt;1gADIfWO</title>\n",
       "<path fill=\"none\" stroke=\"dimgrey\" d=\"M154,-71.7C154,-62.46 154,-50.98 154,-41.11\"/>\n",
       "<polygon fill=\"dimgrey\" stroke=\"dimgrey\" points=\"155.75,-41.1 154,-36.1 152.25,-41.1 155.75,-41.1\"/>\n",
       "</g>\n",
       "</g>\n",
       "</svg>\n"
      ],
      "text/plain": [
       "<graphviz.graphs.Digraph at 0x7f31e4b31600>"
      ]
     },
     "metadata": {},
     "output_type": "display_data"
    }
   ],
   "source": [
    "bt.Tissue.search(\"nucleus of brain\", field=\"name\",return_queryset=True).first().view_parents()"
   ]
  },
  {
   "cell_type": "code",
   "execution_count": 10,
   "metadata": {},
   "outputs": [
    {
     "ename": "AttributeError",
     "evalue": "'Tissue' object has no attribute 'ontology'",
     "output_type": "error",
     "traceback": [
      "\u001b[0;31m---------------------------------------------------------------------------\u001b[0m",
      "\u001b[0;31mAttributeError\u001b[0m                            Traceback (most recent call last)",
      "Cell \u001b[0;32mIn[10], line 1\u001b[0m\n\u001b[0;32m----> 1\u001b[0m \u001b[43mlb\u001b[49m\u001b[38;5;241;43m.\u001b[39;49m\u001b[43mTissue\u001b[49m\u001b[38;5;241;43m.\u001b[39;49m\u001b[43mpublic\u001b[49m\u001b[43m(\u001b[49m\u001b[43m)\u001b[49m\u001b[38;5;241;43m.\u001b[39;49m\u001b[43montology\u001b[49m\n",
      "\u001b[0;31mAttributeError\u001b[0m: 'Tissue' object has no attribute 'ontology'"
     ]
    }
   ],
   "source": []
  },
  {
   "cell_type": "code",
   "execution_count": 11,
   "metadata": {},
   "outputs": [],
   "source": [
    "obj = bt.Tissue.public().to_pronto()"
   ]
  },
  {
   "cell_type": "code",
   "execution_count": 33,
   "metadata": {},
   "outputs": [],
   "source": [
    "df.parents = df.parents.astype(str)"
   ]
  },
  {
   "cell_type": "code",
   "execution_count": 34,
   "metadata": {},
   "outputs": [
    {
     "data": {
      "text/html": [
       "<div>\n",
       "<style scoped>\n",
       "    .dataframe tbody tr th:only-of-type {\n",
       "        vertical-align: middle;\n",
       "    }\n",
       "\n",
       "    .dataframe tbody tr th {\n",
       "        vertical-align: top;\n",
       "    }\n",
       "\n",
       "    .dataframe thead th {\n",
       "        text-align: right;\n",
       "    }\n",
       "</style>\n",
       "<table border=\"1\" class=\"dataframe\">\n",
       "  <thead>\n",
       "    <tr style=\"text-align: right;\">\n",
       "      <th></th>\n",
       "      <th>name</th>\n",
       "      <th>definition</th>\n",
       "      <th>synonyms</th>\n",
       "      <th>parents</th>\n",
       "    </tr>\n",
       "    <tr>\n",
       "      <th>ontology_id</th>\n",
       "      <th></th>\n",
       "      <th></th>\n",
       "      <th></th>\n",
       "      <th></th>\n",
       "    </tr>\n",
       "  </thead>\n",
       "  <tbody>\n",
       "    <tr>\n",
       "      <th>UBERON:0001883</th>\n",
       "      <td>olfactory tubercle</td>\n",
       "      <td>Region In The Ventral Telencephalon, Prominent...</td>\n",
       "      <td>tuberculum olfactorium</td>\n",
       "      <td>['UBERON:0009663', 'UBERON:0000125']</td>\n",
       "    </tr>\n",
       "    <tr>\n",
       "      <th>UBERON:0002308</th>\n",
       "      <td>nucleus of brain</td>\n",
       "      <td>A Neural Nucleus That Is Part Of The Brain.</td>\n",
       "      <td>brain nucleus</td>\n",
       "      <td>['UBERON:0000125']</td>\n",
       "    </tr>\n",
       "    <tr>\n",
       "      <th>UBERON:0002736</th>\n",
       "      <td>lateral nuclear group of thalamus</td>\n",
       "      <td>The Lateral Nuclear Group Is A Collection Of N...</td>\n",
       "      <td>lateral nucleus of thalamus|lateral nuclear gr...</td>\n",
       "      <td>['UBERON:0015233', 'UBERON:0000125']</td>\n",
       "    </tr>\n",
       "    <tr>\n",
       "      <th>UBERON:0007414</th>\n",
       "      <td>nucleus of midbrain tegmentum</td>\n",
       "      <td>A Nucleus Of Brain That Spans A Midbrain Tegme...</td>\n",
       "      <td>tegmental nuclei|tegmental nucleus</td>\n",
       "      <td>['UBERON:0000125']</td>\n",
       "    </tr>\n",
       "    <tr>\n",
       "      <th>UBERON:0009918</th>\n",
       "      <td>retrotrapezoid nucleus</td>\n",
       "      <td>The Loose Collection Of Neurons That Reside In...</td>\n",
       "      <td>None</td>\n",
       "      <td>['UBERON:0007635', 'UBERON:0000125']</td>\n",
       "    </tr>\n",
       "    <tr>\n",
       "      <th>UBERON:0011777</th>\n",
       "      <td>nucleus of spinal cord</td>\n",
       "      <td>A Neural Nucleus That Is Part Of The Spinal Cord.</td>\n",
       "      <td>spinal cord nucleus</td>\n",
       "      <td>['UBERON:0000125']</td>\n",
       "    </tr>\n",
       "    <tr>\n",
       "      <th>UBERON:0035145</th>\n",
       "      <td>nucleus sacci vasculosi</td>\n",
       "      <td>None</td>\n",
       "      <td>None</td>\n",
       "      <td>['UBERON:0000125']</td>\n",
       "    </tr>\n",
       "    <tr>\n",
       "      <th>UBERON:0035808</th>\n",
       "      <td>robust nucleus of arcopallium</td>\n",
       "      <td>A Specialized Nucleus Within The Intermediate ...</td>\n",
       "      <td>None</td>\n",
       "      <td>['UBERON:0009663', 'UBERON:0000125']</td>\n",
       "    </tr>\n",
       "    <tr>\n",
       "      <th>UBERON:0035973</th>\n",
       "      <td>nucleus incertus</td>\n",
       "      <td>Distinct Cell Group In Caudoventral Regions Of...</td>\n",
       "      <td>None</td>\n",
       "      <td>['UBERON:0006331', 'UBERON:0009662', 'UBERON:0...</td>\n",
       "    </tr>\n",
       "    <tr>\n",
       "      <th>UBERON:0035974</th>\n",
       "      <td>anteroventral preoptic nucleus</td>\n",
       "      <td>None</td>\n",
       "      <td>None</td>\n",
       "      <td>['UBERON:0007251', 'UBERON:0000125']</td>\n",
       "    </tr>\n",
       "    <tr>\n",
       "      <th>UBERON:0035976</th>\n",
       "      <td>accessory abducens nucleus</td>\n",
       "      <td>A Small Cluster Of Neurons In The Pontine Reti...</td>\n",
       "      <td>None</td>\n",
       "      <td>['UBERON:0007413', 'UBERON:0000125']</td>\n",
       "    </tr>\n",
       "    <tr>\n",
       "      <th>UBERON:0035977</th>\n",
       "      <td>bed nucleus of the accessory olfactory tract</td>\n",
       "      <td>A Group Of Cells Near The Surface Of The Brain...</td>\n",
       "      <td>None</td>\n",
       "      <td>['UBERON:0009663', 'UBERON:0000125']</td>\n",
       "    </tr>\n",
       "  </tbody>\n",
       "</table>\n",
       "</div>"
      ],
      "text/plain": [
       "                                                        name  \\\n",
       "ontology_id                                                    \n",
       "UBERON:0001883                            olfactory tubercle   \n",
       "UBERON:0002308                              nucleus of brain   \n",
       "UBERON:0002736             lateral nuclear group of thalamus   \n",
       "UBERON:0007414                 nucleus of midbrain tegmentum   \n",
       "UBERON:0009918                        retrotrapezoid nucleus   \n",
       "UBERON:0011777                        nucleus of spinal cord   \n",
       "UBERON:0035145                       nucleus sacci vasculosi   \n",
       "UBERON:0035808                 robust nucleus of arcopallium   \n",
       "UBERON:0035973                              nucleus incertus   \n",
       "UBERON:0035974                anteroventral preoptic nucleus   \n",
       "UBERON:0035976                    accessory abducens nucleus   \n",
       "UBERON:0035977  bed nucleus of the accessory olfactory tract   \n",
       "\n",
       "                                                       definition  \\\n",
       "ontology_id                                                         \n",
       "UBERON:0001883  Region In The Ventral Telencephalon, Prominent...   \n",
       "UBERON:0002308        A Neural Nucleus That Is Part Of The Brain.   \n",
       "UBERON:0002736  The Lateral Nuclear Group Is A Collection Of N...   \n",
       "UBERON:0007414  A Nucleus Of Brain That Spans A Midbrain Tegme...   \n",
       "UBERON:0009918  The Loose Collection Of Neurons That Reside In...   \n",
       "UBERON:0011777  A Neural Nucleus That Is Part Of The Spinal Cord.   \n",
       "UBERON:0035145                                               None   \n",
       "UBERON:0035808  A Specialized Nucleus Within The Intermediate ...   \n",
       "UBERON:0035973  Distinct Cell Group In Caudoventral Regions Of...   \n",
       "UBERON:0035974                                               None   \n",
       "UBERON:0035976  A Small Cluster Of Neurons In The Pontine Reti...   \n",
       "UBERON:0035977  A Group Of Cells Near The Surface Of The Brain...   \n",
       "\n",
       "                                                         synonyms  \\\n",
       "ontology_id                                                         \n",
       "UBERON:0001883                             tuberculum olfactorium   \n",
       "UBERON:0002308                                      brain nucleus   \n",
       "UBERON:0002736  lateral nucleus of thalamus|lateral nuclear gr...   \n",
       "UBERON:0007414                 tegmental nuclei|tegmental nucleus   \n",
       "UBERON:0009918                                               None   \n",
       "UBERON:0011777                                spinal cord nucleus   \n",
       "UBERON:0035145                                               None   \n",
       "UBERON:0035808                                               None   \n",
       "UBERON:0035973                                               None   \n",
       "UBERON:0035974                                               None   \n",
       "UBERON:0035976                                               None   \n",
       "UBERON:0035977                                               None   \n",
       "\n",
       "                                                          parents  \n",
       "ontology_id                                                        \n",
       "UBERON:0001883               ['UBERON:0009663', 'UBERON:0000125']  \n",
       "UBERON:0002308                                 ['UBERON:0000125']  \n",
       "UBERON:0002736               ['UBERON:0015233', 'UBERON:0000125']  \n",
       "UBERON:0007414                                 ['UBERON:0000125']  \n",
       "UBERON:0009918               ['UBERON:0007635', 'UBERON:0000125']  \n",
       "UBERON:0011777                                 ['UBERON:0000125']  \n",
       "UBERON:0035145                                 ['UBERON:0000125']  \n",
       "UBERON:0035808               ['UBERON:0009663', 'UBERON:0000125']  \n",
       "UBERON:0035973  ['UBERON:0006331', 'UBERON:0009662', 'UBERON:0...  \n",
       "UBERON:0035974               ['UBERON:0007251', 'UBERON:0000125']  \n",
       "UBERON:0035976               ['UBERON:0007413', 'UBERON:0000125']  \n",
       "UBERON:0035977               ['UBERON:0009663', 'UBERON:0000125']  "
      ]
     },
     "execution_count": 34,
     "metadata": {},
     "output_type": "execute_result"
    }
   ],
   "source": [
    "df[df.parents.str.contains('UBERON:0000125')]"
   ]
  },
  {
   "cell_type": "code",
   "execution_count": 21,
   "metadata": {},
   "outputs": [
    {
     "data": {
      "text/html": [
       "<div>\n",
       "<style scoped>\n",
       "    .dataframe tbody tr th:only-of-type {\n",
       "        vertical-align: middle;\n",
       "    }\n",
       "\n",
       "    .dataframe tbody tr th {\n",
       "        vertical-align: top;\n",
       "    }\n",
       "\n",
       "    .dataframe thead th {\n",
       "        text-align: right;\n",
       "    }\n",
       "</style>\n",
       "<table border=\"1\" class=\"dataframe\">\n",
       "  <thead>\n",
       "    <tr style=\"text-align: right;\">\n",
       "      <th></th>\n",
       "      <th>name</th>\n",
       "      <th>definition</th>\n",
       "      <th>synonyms</th>\n",
       "      <th>parents</th>\n",
       "    </tr>\n",
       "    <tr>\n",
       "      <th>ontology_id</th>\n",
       "      <th></th>\n",
       "      <th></th>\n",
       "      <th></th>\n",
       "      <th></th>\n",
       "    </tr>\n",
       "  </thead>\n",
       "  <tbody>\n",
       "    <tr>\n",
       "      <th>UBERON:0002308</th>\n",
       "      <td>nucleus of brain</td>\n",
       "      <td>A Neural Nucleus That Is Part Of The Brain.</td>\n",
       "      <td>brain nucleus</td>\n",
       "      <td>[UBERON:0000125]</td>\n",
       "    </tr>\n",
       "  </tbody>\n",
       "</table>\n",
       "</div>"
      ],
      "text/plain": [
       "                            name                                   definition  \\\n",
       "ontology_id                                                                     \n",
       "UBERON:0002308  nucleus of brain  A Neural Nucleus That Is Part Of The Brain.   \n",
       "\n",
       "                     synonyms           parents  \n",
       "ontology_id                                      \n",
       "UBERON:0002308  brain nucleus  [UBERON:0000125]  "
      ]
     },
     "execution_count": 21,
     "metadata": {},
     "output_type": "execute_result"
    }
   ],
   "source": [
    "df = obj.to_df()\n",
    "df[df['name']==\"nucleus of brain\"]"
   ]
  },
  {
   "cell_type": "code",
   "execution_count": null,
   "metadata": {},
   "outputs": [],
   "source": [
    "groupings, _, lclass = get_ancestry_mapping(cats, parentdf)"
   ]
  },
  {
   "cell_type": "code",
   "execution_count": null,
   "metadata": {},
   "outputs": [],
   "source": [
    "['spinal cord', 'vermiform appendix', 'kidney', 'blood', 'caudal ganglionic eminence', 'skin of body', 'mesenteric lymph node', 'hippocampal formation', 'heart', 'uterine cervix', 'coronal suture', 'eye', 'meningeal dura mater', 'descending colon', 'fovea centralis', 'temporal lobe', 'unknown', 'ascending colon', 'jejunum', 'thyroid gland', 'lamina propria', 'mesonephros', 'venous blood', 'jejunal epithelium', 'cerebral cortex', 'chorionic villus', 'primary motor cortex', 'lung', 'muscle organ', 'thalamic complex', 'cortex of kidney', 'peripheral region of retina', 'bronchopulmonary lymph node', 'thymus', 'lung parenchyma', 'skeletal muscle tissue', 'prostate gland', 'brain meninx', 'esophagus', 'dura mater', 'ileal epithelium', 'ureter', 'fallopian tube', 'spleen', 'breast', 'entorhinal cortex', 'liver', 'primary visual cortex', 'adipose tissue', 'gonad', 'stomach', 'rib', 'caecum', 'pancreas', 'anterior cingulate cortex', 'bladder organ', 'retina', 'small intestine', 'vault of skull', 'duodenum', 'heart left ventricle', 'artery', 'adrenal gland', 'alveolus of lung', 'bone marrow', 'uterus', 'peripheral lymph node', 'renal medulla', 'intestine', 'myelencephalon', 'islet of Langerhans', 'gallbladder', 'lamina propria of small intestine', 'brain', 'zone of skin', 'trachea', 'respiratory airway', 'renal papilla', 'orbitofrontal cortex', 'hypothalamus', 'sigmoid colon', 'placenta', 'ileum', 'medial ganglionic eminence', 'umbilical cord blood', 'ovary', 'pleura', 'transverse colon', 'subdural space', 'rectum', 'lower lobe of left lung', 'cerebellum', 'thoracic lymph node', 'cerebral nuclei', 'parietal lobe', 'omentum', 'testis']\n"
   ]
  }
 ],
 "metadata": {
  "kernelspec": {
   "display_name": "scprint",
   "language": "python",
   "name": "python3"
  },
  "language_info": {
   "codemirror_mode": {
    "name": "ipython",
    "version": 3
   },
   "file_extension": ".py",
   "mimetype": "text/x-python",
   "name": "python",
   "nbconvert_exporter": "python",
   "pygments_lexer": "ipython3",
   "version": "3.10.0"
  }
 },
 "nbformat": 4,
 "nbformat_minor": 2
}
